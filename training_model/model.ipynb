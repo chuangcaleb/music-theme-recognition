{
 "cells": [
  {
   "cell_type": "markdown",
   "metadata": {},
   "source": [
    "# **Music Theme Recognition**\n",
    "\n",
    "Chuang Caleb\n",
    "20204134"
   ]
  },
  {
   "cell_type": "markdown",
   "metadata": {},
   "source": [
    "## **Package Imports**"
   ]
  },
  {
   "cell_type": "code",
   "execution_count": 247,
   "metadata": {},
   "outputs": [],
   "source": [
    "import pandas as pd\n",
    "import numpy as np\n",
    "\n",
    "from sklearn.feature_selection import VarianceThreshold\n",
    "\n",
    "from imblearn.over_sampling import RandomOverSampler\n",
    "from imblearn.under_sampling import ClusterCentroids\n",
    "\n",
    "from skmultilearn.adapt import MLkNN\n",
    "from sklearn.model_selection import GridSearchCV\n",
    "\n",
    "from sklearn.model_selection import train_test_split\n",
    "from sklearn.metrics import accuracy_score, hamming_loss, f1_score\n"
   ]
  },
  {
   "cell_type": "markdown",
   "metadata": {},
   "source": [
    "## **Choosing Parameters**"
   ]
  },
  {
   "cell_type": "code",
   "execution_count": 248,
   "metadata": {},
   "outputs": [],
   "source": [
    "target_label = 'risk'\n",
    "\n",
    "k_value = 3\n",
    "\n",
    "# feature_start = 'Range'\n",
    "# feature_end = 'Metrical_Diversity'\n",
    "feature_start = 'Most_Common_Melodic_Interval'\n",
    "feature_end = 'Melodic_Pitch_Variety'\n",
    "\n",
    "threshold_val = 0\n",
    "\n",
    "rand_state = 12"
   ]
  },
  {
   "cell_type": "markdown",
   "metadata": {},
   "source": [
    "## **Importing Dataset**"
   ]
  },
  {
   "cell_type": "markdown",
   "metadata": {},
   "source": [
    "#### Features"
   ]
  },
  {
   "cell_type": "code",
   "execution_count": 249,
   "metadata": {},
   "outputs": [],
   "source": [
    "# Access song_theme_feature_database\n",
    "song_theme_feature_database_path = '../data/features/song_theme_feature_database.csv'\n",
    "raw_feature_df = pd.read_csv(song_theme_feature_database_path)\n"
   ]
  },
  {
   "cell_type": "markdown",
   "metadata": {},
   "source": [
    "#### Labels"
   ]
  },
  {
   "cell_type": "code",
   "execution_count": 250,
   "metadata": {},
   "outputs": [],
   "source": [
    "# Access song_theme_labels_database\n",
    "song_theme_label_database_path = '../data/song_theme_label_database.xlsx'\n",
    "raw_label_df = pd.read_excel(song_theme_label_database_path)"
   ]
  },
  {
   "cell_type": "markdown",
   "metadata": {},
   "source": [
    "## **Prepare datasets**"
   ]
  },
  {
   "cell_type": "markdown",
   "metadata": {},
   "source": [
    "### Manual Selection\n",
    "\n",
    "Select the features for this iteration"
   ]
  },
  {
   "cell_type": "code",
   "execution_count": 251,
   "metadata": {},
   "outputs": [],
   "source": [
    "man_feature_df = raw_feature_df.loc[:,feature_start:feature_end]\n"
   ]
  },
  {
   "cell_type": "markdown",
   "metadata": {},
   "source": [
    "Select the labels for this iteration"
   ]
  },
  {
   "cell_type": "code",
   "execution_count": 252,
   "metadata": {},
   "outputs": [
    {
     "name": "stderr",
     "output_type": "stream",
     "text": [
      "/opt/homebrew/Caskroom/miniforge/base/lib/python3.9/site-packages/pandas/core/frame.py:4906: SettingWithCopyWarning: \n",
      "A value is trying to be set on a copy of a slice from a DataFrame\n",
      "\n",
      "See the caveats in the documentation: https://pandas.pydata.org/pandas-docs/stable/user_guide/indexing.html#returning-a-view-versus-a-copy\n",
      "  return super().drop(\n"
     ]
    }
   ],
   "source": [
    "# Filter for only recognized samples in labels_df\n",
    "main_label_df = raw_label_df[raw_label_df.recognizable == 1]\n",
    "\n",
    "# Filter out unused labels and metadata\n",
    "main_label_df.drop(\n",
    "    columns=main_label_df.columns[19:], axis=1, inplace=True)  # unused labels\n",
    "main_label_df.drop(\n",
    "    columns=main_label_df.columns[0:4], axis=1, inplace=True)  # metadata\n",
    "\n",
    "# label_df = main_label_df\n",
    "# label_df = main_label_df[target_label]\n",
    "label_df = main_label_df[[target_label]]\n",
    "# label_df"
   ]
  },
  {
   "cell_type": "markdown",
   "metadata": {},
   "source": [
    "### Feature Selection"
   ]
  },
  {
   "cell_type": "markdown",
   "metadata": {},
   "source": [
    "Filter out features with zero variance"
   ]
  },
  {
   "cell_type": "code",
   "execution_count": 253,
   "metadata": {},
   "outputs": [
    {
     "name": "stdout",
     "output_type": "stream",
     "text": [
      "Started with 24 features.\n",
      "Removed 0 features that have a variance of 0.\n",
      "There are 24 features left.\n"
     ]
    }
   ],
   "source": [
    "constant_filter = VarianceThreshold(threshold=threshold_val)\n",
    "constant_filter.fit(man_feature_df)\n",
    "constant_columns = [column for column in man_feature_df.columns\n",
    "                    if column not in\n",
    "                    man_feature_df.columns[constant_filter.get_support()]]\n",
    "var_feature_df = constant_filter.transform(man_feature_df)\n",
    "# x_test = constant_filter.transform(label_df)\n",
    "# for column in constant_columns:\n",
    "#     print(\"Removed \", column)\n",
    "print(f\"Started with {man_feature_df.shape[1]} features.\")\n",
    "print(\n",
    "    f\"Removed {len(constant_columns)} features that have a variance of {threshold_val}.\")\n",
    "print(f\"There are {(var_feature_df.shape[1])} features left.\")\n",
    "\n",
    "feature_names = [x for x in man_feature_df.columns if not x in constant_columns]"
   ]
  },
  {
   "cell_type": "markdown",
   "metadata": {},
   "source": [
    "Filter out features with low importance"
   ]
  },
  {
   "cell_type": "code",
   "execution_count": null,
   "metadata": {},
   "outputs": [],
   "source": []
  },
  {
   "cell_type": "markdown",
   "metadata": {},
   "source": [
    "## **Transforming Data**"
   ]
  },
  {
   "cell_type": "code",
   "execution_count": 254,
   "metadata": {},
   "outputs": [],
   "source": [
    "# from numpy import ravel\n",
    "\n",
    "# feature_np = feature_df.to_numpy()\n",
    "# label_np = label_df.to_numpy()\n",
    "# # feature_np = feature_df\n",
    "# # label_np = label_df\n",
    "\n",
    "# feature_np = feature_df.to_numpy()\n",
    "feature_np = var_feature_df\n",
    "label_np = label_df.to_numpy().astype(int)\n",
    "\n",
    "ids_df = raw_feature_df['sample']\n"
   ]
  },
  {
   "cell_type": "markdown",
   "metadata": {},
   "source": [
    "### Splitting dataset"
   ]
  },
  {
   "cell_type": "code",
   "execution_count": 255,
   "metadata": {},
   "outputs": [],
   "source": [
    "(x_train, x_test, y_train, y_test, ids_train, ids_test) = train_test_split(\n",
    "    feature_np, label_np, ids_df, test_size=0.2, random_state=rand_state)"
   ]
  },
  {
   "cell_type": "code",
   "execution_count": 256,
   "metadata": {},
   "outputs": [
    {
     "data": {
      "text/plain": [
       "(130, 24)"
      ]
     },
     "execution_count": 256,
     "metadata": {},
     "output_type": "execute_result"
    }
   ],
   "source": [
    "var_feature_df.shape"
   ]
  },
  {
   "cell_type": "markdown",
   "metadata": {},
   "source": [
    "### Sampling Data \n",
    "For balanced dataset"
   ]
  },
  {
   "cell_type": "code",
   "execution_count": 257,
   "metadata": {},
   "outputs": [],
   "source": [
    "# from imblearn.over_sampling import RandomOverSampler\n",
    "# ros = RandomOverSampler(random_state=0,shrinkage= 0.4)\n",
    "# X_resampled, y_resampled = ros.fit_resample(x_train, y_train)\n",
    "\n",
    "# from collections import Counter\n",
    "# print(sorted(Counter(y_resampled).items()))\n"
   ]
  },
  {
   "cell_type": "code",
   "execution_count": 258,
   "metadata": {},
   "outputs": [],
   "source": [
    "# from imblearn.under_sampling import RandomUnderSampler\n",
    "# rus = RandomUnderSampler(random_state=0)\n",
    "# X_resampled, y_resampled = rus.fit_resample(x_train, y_train)\n",
    "\n",
    "# from collections import Counter\n",
    "# print(sorted(Counter(y_resampled).items()))"
   ]
  },
  {
   "cell_type": "code",
   "execution_count": 259,
   "metadata": {},
   "outputs": [],
   "source": [
    "# from imblearn.over_sampling import SMOTE\n",
    "# smote = SMOTE(random_state=888)\n",
    "# x_train, y_train = smote.fit_resample(x_train, y_train)\n",
    "\n",
    "# y_train.value_counts()\n"
   ]
  },
  {
   "cell_type": "markdown",
   "metadata": {},
   "source": [
    "## **Working Model**"
   ]
  },
  {
   "cell_type": "code",
   "execution_count": 260,
   "metadata": {},
   "outputs": [],
   "source": [
    "# from sklearn.feature_selection import SelectKBest\n",
    "# from sklearn.feature_selection import f_classif\n",
    "# from sklearn.pipeline import make_pipeline\n",
    "# from sklearn.ensemble import RandomForestClassifier\n",
    "# from sklearn.model_selection import cross_validate\n",
    "\n",
    "\n",
    "# model_with_selection = make_pipeline(\n",
    "#     SelectKBest(score_func=f_classif, k=2),\n",
    "#     RandomForestClassifier(n_jobs=2),\n",
    "# )\n",
    "\n",
    "# label_np = ravel(label_np)\n",
    "\n",
    "# cv_results_with_selection = cross_validate(\n",
    "#     model_with_selection, feature_np, label_np, return_estimator=True)\n",
    "# cv_results_with_selection = pd.DataFrame(cv_results_with_selection)\n",
    "\n",
    "# cv_results_with_selection"
   ]
  },
  {
   "cell_type": "code",
   "execution_count": 261,
   "metadata": {},
   "outputs": [
    {
     "data": {
      "text/plain": [
       "DecisionTreeClassifier(max_leaf_nodes=10, random_state=12)"
      ]
     },
     "execution_count": 261,
     "metadata": {},
     "output_type": "execute_result"
    }
   ],
   "source": [
    "from sklearn.tree import DecisionTreeClassifier\n",
    "\n",
    "parameters = {'k': range(3,5), 's': [0.5, 0.7, 1.0]}\n",
    "score = 'f1_macro'\n",
    "# from imblearn.ensemble import BalancedRandomForestClassifier\n",
    "\n",
    "# classifier = GridSearchCV(MLkNN(), parameters, scoring=score)\n",
    "# classifier = MLkNN()\n",
    "classifier = DecisionTreeClassifier(max_leaf_nodes=10,random_state=rand_state)\n",
    "# classifier = BalancedRandomForestClassifier(n_estimators=500, random_state=rand_state)\n",
    "classifier.fit(x_train, y_train)\n",
    "\n",
    "# print(classifier.best_params_, classifier.best_score_)\n",
    "# classifier.fit(X_resampled, y_resampled)"
   ]
  },
  {
   "cell_type": "code",
   "execution_count": 262,
   "metadata": {},
   "outputs": [
    {
     "data": {
      "text/plain": [
       "[Text(0.5357142857142857, 0.9166666666666666, 'Melodic_Perfect_Fourths <= 0.062\\ngini = 0.286\\nsamples = 104\\nvalue = [86, 18]\\nclass = null'),\n",
       " Text(0.2857142857142857, 0.75, 'Relative_Prevalence_of_Most_Common_Melodic_Intervals <= 0.563\\ngini = 0.497\\nsamples = 24\\nvalue = [11, 13]\\nclass = risk'),\n",
       " Text(0.14285714285714285, 0.5833333333333334, 'Melodic_Large_Intervals <= 0.169\\ngini = 0.198\\nsamples = 9\\nvalue = [1, 8]\\nclass = risk'),\n",
       " Text(0.07142857142857142, 0.4166666666666667, 'gini = 0.0\\nsamples = 8\\nvalue = [0, 8]\\nclass = risk'),\n",
       " Text(0.21428571428571427, 0.4166666666666667, 'gini = 0.0\\nsamples = 1\\nvalue = [1, 0]\\nclass = null'),\n",
       " Text(0.42857142857142855, 0.5833333333333334, 'Relative_Prevalence_of_Most_Common_Melodic_Intervals <= 0.765\\ngini = 0.444\\nsamples = 15\\nvalue = [10, 5]\\nclass = null'),\n",
       " Text(0.35714285714285715, 0.4166666666666667, 'gini = 0.0\\nsamples = 7\\nvalue = [7, 0]\\nclass = null'),\n",
       " Text(0.5, 0.4166666666666667, 'Direction_of_Melodic_Motion <= 0.437\\ngini = 0.469\\nsamples = 8\\nvalue = [3, 5]\\nclass = risk'),\n",
       " Text(0.42857142857142855, 0.25, 'Minor_Major_Melodic_Third_Ratio <= 6.167\\ngini = 0.375\\nsamples = 4\\nvalue = [3, 1]\\nclass = null'),\n",
       " Text(0.35714285714285715, 0.08333333333333333, 'gini = 0.0\\nsamples = 3\\nvalue = [3, 0]\\nclass = null'),\n",
       " Text(0.5, 0.08333333333333333, 'gini = 0.0\\nsamples = 1\\nvalue = [0, 1]\\nclass = risk'),\n",
       " Text(0.5714285714285714, 0.25, 'gini = 0.0\\nsamples = 4\\nvalue = [0, 4]\\nclass = risk'),\n",
       " Text(0.7857142857142857, 0.75, 'Relative_Prevalence_of_Most_Common_Melodic_Intervals <= 0.228\\ngini = 0.117\\nsamples = 80\\nvalue = [75, 5]\\nclass = null'),\n",
       " Text(0.7142857142857143, 0.5833333333333334, 'gini = 0.0\\nsamples = 1\\nvalue = [0, 1]\\nclass = risk'),\n",
       " Text(0.8571428571428571, 0.5833333333333334, 'Melodic_Large_Intervals <= 0.361\\ngini = 0.096\\nsamples = 79\\nvalue = [75, 4]\\nclass = null'),\n",
       " Text(0.7857142857142857, 0.4166666666666667, 'Minor_Major_Melodic_Third_Ratio <= 2.681\\ngini = 0.074\\nsamples = 78\\nvalue = [75, 3]\\nclass = null'),\n",
       " Text(0.7142857142857143, 0.25, 'gini = 0.027\\nsamples = 72\\nvalue = [71, 1]\\nclass = null'),\n",
       " Text(0.8571428571428571, 0.25, 'gini = 0.444\\nsamples = 6\\nvalue = [4, 2]\\nclass = null'),\n",
       " Text(0.9285714285714286, 0.4166666666666667, 'gini = 0.0\\nsamples = 1\\nvalue = [0, 1]\\nclass = risk')]"
      ]
     },
     "execution_count": 262,
     "metadata": {},
     "output_type": "execute_result"
    },
    {
     "data": {
      "image/png": "[encoded data removed]",
      "text/plain": [
       "<Figure size 1080x1080 with 1 Axes>"
      ]
     },
     "metadata": {
      "needs_background": "light"
     },
     "output_type": "display_data"
    }
   ],
   "source": [
    "from sklearn.tree import export_text\n",
    "from sklearn import tree\n",
    "import matplotlib.pyplot as plt\n",
    "\n",
    "# print(export_text(classifier, feature_names=final_columns))\n",
    "\n",
    "plt.figure(figsize=(15,15))  \n",
    "tree.plot_tree(classifier,feature_names=feature_names, class_names=['null',target_label],fontsize=7)"
   ]
  },
  {
   "cell_type": "markdown",
   "metadata": {},
   "source": [
    "## **Evaluation**"
   ]
  },
  {
   "cell_type": "markdown",
   "metadata": {},
   "source": [
    "### Prediction"
   ]
  },
  {
   "cell_type": "code",
   "execution_count": 263,
   "metadata": {},
   "outputs": [],
   "source": [
    "predictions = classifier.predict(x_test)"
   ]
  },
  {
   "cell_type": "markdown",
   "metadata": {},
   "source": [
    "### Metrics"
   ]
  },
  {
   "cell_type": "code",
   "execution_count": 264,
   "metadata": {},
   "outputs": [
    {
     "name": "stdout",
     "output_type": "stream",
     "text": [
      "Accuracy: 0.8461538461538461\n",
      "Haming Loss: 0.15384615384615385\n",
      "F1-score: 0.6\n"
     ]
    }
   ],
   "source": [
    "# scores = cross_val_score(classifier, x_test, y_test, cv=3, scoring='accuracy')\n",
    "\n",
    "print('Accuracy: ' + str(accuracy_score(y_test, predictions)))\n",
    "print('Haming Loss: ' +  str(hamming_loss(y_test, predictions)))\n",
    "print('F1-score: ' +  str(f1_score(y_test, predictions)))\n"
   ]
  },
  {
   "cell_type": "markdown",
   "metadata": {},
   "source": [
    "Display results"
   ]
  },
  {
   "cell_type": "code",
   "execution_count": 265,
   "metadata": {},
   "outputs": [
    {
     "data": {
      "text/html": [
       "<div>\n",
       "<style scoped>\n",
       "    .dataframe tbody tr th:only-of-type {\n",
       "        vertical-align: middle;\n",
       "    }\n",
       "\n",
       "    .dataframe tbody tr th {\n",
       "        vertical-align: top;\n",
       "    }\n",
       "\n",
       "    .dataframe thead th {\n",
       "        text-align: right;\n",
       "    }\n",
       "</style>\n",
       "<table border=\"1\" class=\"dataframe\">\n",
       "  <thead>\n",
       "    <tr style=\"text-align: right;\">\n",
       "      <th></th>\n",
       "      <th>sample</th>\n",
       "      <th>y_true</th>\n",
       "      <th>y_pred</th>\n",
       "    </tr>\n",
       "  </thead>\n",
       "  <tbody>\n",
       "    <tr>\n",
       "      <th>0</th>\n",
       "      <td>Disney Themes_You've Got A Friend_midiworld.mid</td>\n",
       "      <td>0</td>\n",
       "      <td>0</td>\n",
       "    </tr>\n",
       "    <tr>\n",
       "      <th>1</th>\n",
       "      <td>disney_bitmidi.mid</td>\n",
       "      <td>1</td>\n",
       "      <td>1</td>\n",
       "    </tr>\n",
       "    <tr>\n",
       "      <th>2</th>\n",
       "      <td>ELO - Mr Blue Sky_bitmidi.mid</td>\n",
       "      <td>0</td>\n",
       "      <td>0</td>\n",
       "    </tr>\n",
       "    <tr>\n",
       "      <th>3</th>\n",
       "      <td>coldplay-a_sky_full_of_stars_bitmidi.mid</td>\n",
       "      <td>0</td>\n",
       "      <td>0</td>\n",
       "    </tr>\n",
       "    <tr>\n",
       "      <th>4</th>\n",
       "      <td>Aladdin(PrinceAli)_bitmidi.mid</td>\n",
       "      <td>0</td>\n",
       "      <td>0</td>\n",
       "    </tr>\n",
       "    <tr>\n",
       "      <th>5</th>\n",
       "      <td>A-Thousand-Hours_bitmidi.mid</td>\n",
       "      <td>0</td>\n",
       "      <td>0</td>\n",
       "    </tr>\n",
       "    <tr>\n",
       "      <th>6</th>\n",
       "      <td>TV Themes_Pokemon_midiworld.mid</td>\n",
       "      <td>0</td>\n",
       "      <td>0</td>\n",
       "    </tr>\n",
       "    <tr>\n",
       "      <th>7</th>\n",
       "      <td>imperial_bitmidi.mid</td>\n",
       "      <td>1</td>\n",
       "      <td>1</td>\n",
       "    </tr>\n",
       "    <tr>\n",
       "      <th>8</th>\n",
       "      <td>ABBA.The winner takes it all K_bitmidi.mid</td>\n",
       "      <td>0</td>\n",
       "      <td>0</td>\n",
       "    </tr>\n",
       "    <tr>\n",
       "      <th>9</th>\n",
       "      <td>Movie Themes_Star Trek First Contact_midiworld...</td>\n",
       "      <td>0</td>\n",
       "      <td>0</td>\n",
       "    </tr>\n",
       "    <tr>\n",
       "      <th>10</th>\n",
       "      <td>Klaus-Badelt-Hans-Zimmer-Tiesto-He-s-a-pirate-...</td>\n",
       "      <td>0</td>\n",
       "      <td>0</td>\n",
       "    </tr>\n",
       "    <tr>\n",
       "      <th>11</th>\n",
       "      <td>Ain't-No-Mountain-High-Enough_bitmidi.mid</td>\n",
       "      <td>0</td>\n",
       "      <td>0</td>\n",
       "    </tr>\n",
       "    <tr>\n",
       "      <th>12</th>\n",
       "      <td>ABBA.Happy new year_bitmidi.mid</td>\n",
       "      <td>0</td>\n",
       "      <td>0</td>\n",
       "    </tr>\n",
       "    <tr>\n",
       "      <th>13</th>\n",
       "      <td>Hellfire.mid</td>\n",
       "      <td>0</td>\n",
       "      <td>0</td>\n",
       "    </tr>\n",
       "    <tr>\n",
       "      <th>14</th>\n",
       "      <td>GREENDAY.Boulevard of broken K.MID_bitmidi.mid</td>\n",
       "      <td>0</td>\n",
       "      <td>0</td>\n",
       "    </tr>\n",
       "    <tr>\n",
       "      <th>15</th>\n",
       "      <td>avicii-hey_brother_bitmidi.mid</td>\n",
       "      <td>0</td>\n",
       "      <td>0</td>\n",
       "    </tr>\n",
       "    <tr>\n",
       "      <th>16</th>\n",
       "      <td>adele-someone_like_you_bitmidi.mid</td>\n",
       "      <td>0</td>\n",
       "      <td>0</td>\n",
       "    </tr>\n",
       "    <tr>\n",
       "      <th>17</th>\n",
       "      <td>allstar_bitmidi.mid</td>\n",
       "      <td>0</td>\n",
       "      <td>0</td>\n",
       "    </tr>\n",
       "    <tr>\n",
       "      <th>18</th>\n",
       "      <td>Aladdin(AFriendLikeMe)_bitmidi.mid</td>\n",
       "      <td>0</td>\n",
       "      <td>0</td>\n",
       "    </tr>\n",
       "    <tr>\n",
       "      <th>19</th>\n",
       "      <td>ABBA.Dancing queen K_bitmidi.mid</td>\n",
       "      <td>1</td>\n",
       "      <td>1</td>\n",
       "    </tr>\n",
       "    <tr>\n",
       "      <th>20</th>\n",
       "      <td>funeral-march_bitmidi.mid</td>\n",
       "      <td>0</td>\n",
       "      <td>0</td>\n",
       "    </tr>\n",
       "    <tr>\n",
       "      <th>21</th>\n",
       "      <td>Aqua - Barbie Girl_bitmidi.mid</td>\n",
       "      <td>0</td>\n",
       "      <td>0</td>\n",
       "    </tr>\n",
       "    <tr>\n",
       "      <th>22</th>\n",
       "      <td>Beauty-and-the-Beast_bitmidi.mid</td>\n",
       "      <td>0</td>\n",
       "      <td>0</td>\n",
       "    </tr>\n",
       "    <tr>\n",
       "      <th>23</th>\n",
       "      <td>adele-rolling_in_the_deep_bitmidi.mid</td>\n",
       "      <td>0</td>\n",
       "      <td>0</td>\n",
       "    </tr>\n",
       "    <tr>\n",
       "      <th>24</th>\n",
       "      <td>Andrew Lloyd Webber - Phantom of the Opera_bit...</td>\n",
       "      <td>1</td>\n",
       "      <td>1</td>\n",
       "    </tr>\n",
       "    <tr>\n",
       "      <th>25</th>\n",
       "      <td>Batman: Arkham Origins - Arkham Origins Suite_...</td>\n",
       "      <td>1</td>\n",
       "      <td>1</td>\n",
       "    </tr>\n",
       "  </tbody>\n",
       "</table>\n",
       "</div>"
      ],
      "text/plain": [
       "                                               sample  y_true  y_pred\n",
       "0     Disney Themes_You've Got A Friend_midiworld.mid       0       0\n",
       "1                                  disney_bitmidi.mid       1       1\n",
       "2                       ELO - Mr Blue Sky_bitmidi.mid       0       0\n",
       "3            coldplay-a_sky_full_of_stars_bitmidi.mid       0       0\n",
       "4                      Aladdin(PrinceAli)_bitmidi.mid       0       0\n",
       "5                        A-Thousand-Hours_bitmidi.mid       0       0\n",
       "6                     TV Themes_Pokemon_midiworld.mid       0       0\n",
       "7                                imperial_bitmidi.mid       1       1\n",
       "8          ABBA.The winner takes it all K_bitmidi.mid       0       0\n",
       "9   Movie Themes_Star Trek First Contact_midiworld...       0       0\n",
       "10  Klaus-Badelt-Hans-Zimmer-Tiesto-He-s-a-pirate-...       0       0\n",
       "11          Ain't-No-Mountain-High-Enough_bitmidi.mid       0       0\n",
       "12                    ABBA.Happy new year_bitmidi.mid       0       0\n",
       "13                                       Hellfire.mid       0       0\n",
       "14     GREENDAY.Boulevard of broken K.MID_bitmidi.mid       0       0\n",
       "15                     avicii-hey_brother_bitmidi.mid       0       0\n",
       "16                 adele-someone_like_you_bitmidi.mid       0       0\n",
       "17                                allstar_bitmidi.mid       0       0\n",
       "18                 Aladdin(AFriendLikeMe)_bitmidi.mid       0       0\n",
       "19                   ABBA.Dancing queen K_bitmidi.mid       1       1\n",
       "20                          funeral-march_bitmidi.mid       0       0\n",
       "21                     Aqua - Barbie Girl_bitmidi.mid       0       0\n",
       "22                   Beauty-and-the-Beast_bitmidi.mid       0       0\n",
       "23              adele-rolling_in_the_deep_bitmidi.mid       0       0\n",
       "24  Andrew Lloyd Webber - Phantom of the Opera_bit...       1       1\n",
       "25  Batman: Arkham Origins - Arkham Origins Suite_...       1       1"
      ]
     },
     "execution_count": 265,
     "metadata": {},
     "output_type": "execute_result"
    }
   ],
   "source": [
    "predictions_df = pd.DataFrame(predictions, columns = label_df.columns)\n",
    "y_test_df = pd.DataFrame(predictions, columns = label_df.columns)\n",
    "\n",
    "results = pd.DataFrame(\n",
    "    # {'sample': ids_test, 'y_true': flat_y_true, 'y_pred': flat_predictions})\n",
    "    # {'sample': ids_test, 'y_true': y_test, 'y_pred': predictions})\n",
    "    {'sample': ids_test.reset_index(drop=True), 'y_true': y_test_df[target_label], 'y_pred':predictions_df[target_label]})\n",
    "\n",
    "results = results.sort_index()\n",
    "\n",
    "results"
   ]
  }
 ],
 "metadata": {
  "interpreter": {
   "hash": "c6e4e9f98eb68ad3b7c296f83d20e6de614cb42e90992a65aa266555a3137d0d"
  },
  "kernelspec": {
   "display_name": "Python 3.9.7 ('base')",
   "language": "python",
   "name": "python3"
  },
  "language_info": {
   "codemirror_mode": {
    "name": "ipython",
    "version": 3
   },
   "file_extension": ".py",
   "mimetype": "text/x-python",
   "name": "python",
   "nbconvert_exporter": "python",
   "pygments_lexer": "ipython3",
   "version": "3.9.7"
  },
  "orig_nbformat": 4
 },
 "nbformat": 4,
 "nbformat_minor": 2
}
