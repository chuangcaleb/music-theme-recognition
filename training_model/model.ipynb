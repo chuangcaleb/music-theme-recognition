{
 "cells": [
  {
   "cell_type": "markdown",
   "metadata": {},
   "source": [
    "# **Music Theme Recognition**\n",
    "\n",
    "Chuang Caleb\n",
    "20204134\n"
   ]
  },
  {
   "cell_type": "markdown",
   "metadata": {},
   "source": [
    "## **Package Imports**\n"
   ]
  },
  {
   "cell_type": "code",
   "execution_count": 444,
   "metadata": {},
   "outputs": [],
   "source": [
    "import pandas as pd\n",
    "import numpy as np\n",
    "\n",
    "from sklearn.feature_selection import VarianceThreshold\n",
    "\n",
    "from imblearn.over_sampling import RandomOverSampler\n",
    "from imblearn.under_sampling import ClusterCentroids\n",
    "\n",
    "from skmultilearn.adapt import MLkNN\n",
    "from sklearn.model_selection import GridSearchCV\n",
    "\n",
    "from sklearn.model_selection import train_test_split\n",
    "from sklearn.metrics import accuracy_score, hamming_loss, f1_score\n",
    "\n",
    "from manual_feature_preselection import mtr_load_feature_set"
   ]
  },
  {
   "cell_type": "markdown",
   "metadata": {},
   "source": [
    "## **Choosing Parameters**\n"
   ]
  },
  {
   "cell_type": "markdown",
   "metadata": {},
   "source": [
    "Load manually preselected/shortlisted features"
   ]
  },
  {
   "cell_type": "code",
   "execution_count": 445,
   "metadata": {},
   "outputs": [
    {
     "name": "stdout",
     "output_type": "stream",
     "text": [
      "\n",
      "Successfully written manually preselected features to manual_feature_preselection/manually_preselected_features.txt\n",
      "\n"
     ]
    }
   ],
   "source": [
    "preselected_feature_list = mtr_load_feature_set.load_feature_set()"
   ]
  },
  {
   "cell_type": "code",
   "execution_count": 446,
   "metadata": {},
   "outputs": [],
   "source": [
    "target_label = 'powerlessness'\n",
    "# feature_start = 'Vertical_Unisons'\n",
    "# feature_end = 'Minor_Major_Triad_Ratio'\n",
    "\n",
    "k_value = 3\n",
    "\n",
    "threshold_val = 0\n",
    "\n",
    "max_leaf_nodes = 10\n",
    "\n",
    "rand_state = 5\n",
    "\n"
   ]
  },
  {
   "cell_type": "markdown",
   "metadata": {},
   "source": [
    "## **Importing Dataset**\n"
   ]
  },
  {
   "cell_type": "markdown",
   "metadata": {},
   "source": [
    "#### Features\n"
   ]
  },
  {
   "cell_type": "code",
   "execution_count": 447,
   "metadata": {},
   "outputs": [],
   "source": [
    "# Access song_theme_feature_database\n",
    "song_theme_feature_database_path = '../data/features/song_theme_feature_database.csv'\n",
    "raw_feature_df = pd.read_csv(song_theme_feature_database_path)"
   ]
  },
  {
   "cell_type": "markdown",
   "metadata": {},
   "source": [
    "#### Labels\n"
   ]
  },
  {
   "cell_type": "code",
   "execution_count": 448,
   "metadata": {},
   "outputs": [],
   "source": [
    "# Access song_theme_labels_database\n",
    "song_theme_label_database_path = '../data/song_theme_label_database.xlsx'\n",
    "raw_label_df = pd.read_excel(song_theme_label_database_path)\n"
   ]
  },
  {
   "cell_type": "markdown",
   "metadata": {},
   "source": [
    "## **Prepare datasets**\n"
   ]
  },
  {
   "cell_type": "markdown",
   "metadata": {},
   "source": [
    "### Manual Selection\n",
    "\n",
    "Select the features for this iteration\n"
   ]
  },
  {
   "cell_type": "code",
   "execution_count": 449,
   "metadata": {},
   "outputs": [],
   "source": [
    "# man_feature_df = raw_feature_df.loc[:, feature_start:feature_end]\n",
    "man_feature_df = raw_feature_df[preselected_feature_list]\n"
   ]
  },
  {
   "cell_type": "markdown",
   "metadata": {},
   "source": [
    "Select the labels for this iteration\n"
   ]
  },
  {
   "cell_type": "code",
   "execution_count": 450,
   "metadata": {},
   "outputs": [
    {
     "name": "stderr",
     "output_type": "stream",
     "text": [
      "/opt/homebrew/Caskroom/miniforge/base/lib/python3.9/site-packages/pandas/core/frame.py:4906: SettingWithCopyWarning: \n",
      "A value is trying to be set on a copy of a slice from a DataFrame\n",
      "\n",
      "See the caveats in the documentation: https://pandas.pydata.org/pandas-docs/stable/user_guide/indexing.html#returning-a-view-versus-a-copy\n",
      "  return super().drop(\n"
     ]
    }
   ],
   "source": [
    "# Filter for only recognized samples in labels_df\n",
    "main_label_df = raw_label_df[raw_label_df.recognizable == 1]\n",
    "\n",
    "# Filter out unused labels and metadata\n",
    "main_label_df.drop(\n",
    "    columns=main_label_df.columns[19:], axis=1, inplace=True)  # unused labels\n",
    "main_label_df.drop(\n",
    "    columns=main_label_df.columns[0:4], axis=1, inplace=True)  # metadata\n",
    "\n",
    "# label_df = main_label_df\n",
    "# label_df = main_label_df[target_label]\n",
    "label_df = main_label_df[[target_label]]\n"
   ]
  },
  {
   "cell_type": "markdown",
   "metadata": {},
   "source": [
    "### Feature Selection\n"
   ]
  },
  {
   "cell_type": "markdown",
   "metadata": {},
   "source": [
    "Filter out features with zero variance\n"
   ]
  },
  {
   "cell_type": "code",
   "execution_count": 451,
   "metadata": {},
   "outputs": [
    {
     "name": "stdout",
     "output_type": "stream",
     "text": [
      "Started with 199 features.\n",
      "Removed 1 feature(s) that having variance of 0.\n",
      "There are 198 features left.\n"
     ]
    }
   ],
   "source": [
    "constant_filter = VarianceThreshold(threshold=threshold_val)\n",
    "constant_filter.fit(man_feature_df)\n",
    "constant_columns = [column for column in man_feature_df.columns\n",
    "                    if column not in\n",
    "                    man_feature_df.columns[constant_filter.get_support()]]\n",
    "var_feature_np = constant_filter.transform(man_feature_df)\n",
    "# x_test = constant_filter.transform(label_df)\n",
    "# for column in constant_columns:\n",
    "#     print(\"Removed \", column)\n",
    "print(f\"Started with {man_feature_df.shape[1]} features.\")\n",
    "print(\n",
    "    f\"Removed {len(constant_columns)} feature(s) that having variance of {threshold_val}.\")\n",
    "print(f\"There are {(var_feature_np.shape[1])} features left.\")\n",
    "\n",
    "feature_names = [\n",
    "    x for x in man_feature_df.columns if not x in constant_columns]\n"
   ]
  },
  {
   "cell_type": "markdown",
   "metadata": {},
   "source": [
    "Filter out features with low importance\n"
   ]
  },
  {
   "cell_type": "code",
   "execution_count": null,
   "metadata": {},
   "outputs": [],
   "source": []
  },
  {
   "cell_type": "markdown",
   "metadata": {},
   "source": [
    "## **Transforming Data**\n"
   ]
  },
  {
   "cell_type": "code",
   "execution_count": 452,
   "metadata": {},
   "outputs": [],
   "source": [
    "# from numpy import ravel\n",
    "\n",
    "# feature_np = feature_df.to_numpy()\n",
    "# label_np = label_df.to_numpy()\n",
    "# # feature_np = feature_df\n",
    "# # label_np = label_df\n",
    "\n",
    "# feature_np = feature_df.to_numpy()\n",
    "feature_np = var_feature_np\n",
    "label_np = label_df.to_numpy().astype(int)\n",
    "\n",
    "ids_df = raw_feature_df['sample']\n"
   ]
  },
  {
   "cell_type": "markdown",
   "metadata": {},
   "source": [
    "### Splitting dataset\n"
   ]
  },
  {
   "cell_type": "code",
   "execution_count": 453,
   "metadata": {},
   "outputs": [],
   "source": [
    "(x_train, x_test, y_train, y_test, ids_train, ids_test) = train_test_split(\n",
    "    feature_np, label_np, ids_df, test_size=0.2, random_state=rand_state)\n"
   ]
  },
  {
   "cell_type": "markdown",
   "metadata": {},
   "source": [
    "### Sampling Data\n",
    "\n",
    "For balanced dataset\n"
   ]
  },
  {
   "cell_type": "code",
   "execution_count": 454,
   "metadata": {},
   "outputs": [],
   "source": [
    "# from imblearn.over_sampling import RandomOverSampler\n",
    "# ros = RandomOverSampler(random_state=0,shrinkage= 0.4)\n",
    "# X_resampled, y_resampled = ros.fit_resample(x_train, y_train)\n",
    "\n",
    "# from collections import Counter\n",
    "# print(sorted(Counter(y_resampled).items()))\n"
   ]
  },
  {
   "cell_type": "code",
   "execution_count": 455,
   "metadata": {},
   "outputs": [],
   "source": [
    "# from imblearn.under_sampling import RandomUnderSampler\n",
    "# rus = RandomUnderSampler(random_state=0)\n",
    "# X_resampled, y_resampled = rus.fit_resample(x_train, y_train)\n",
    "\n",
    "# from collections import Counter\n",
    "# print(sorted(Counter(y_resampled).items()))\n"
   ]
  },
  {
   "cell_type": "code",
   "execution_count": 456,
   "metadata": {},
   "outputs": [],
   "source": [
    "# from imblearn.over_sampling import SMOTE\n",
    "# smote = SMOTE(random_state=rand_state)\n",
    "# x_train, y_train = smote.fit_resample(x_train, y_train)\n",
    "\n",
    "# y_train.value_counts()\n"
   ]
  },
  {
   "cell_type": "markdown",
   "metadata": {},
   "source": [
    "## **Working Model**\n"
   ]
  },
  {
   "cell_type": "code",
   "execution_count": 457,
   "metadata": {},
   "outputs": [],
   "source": [
    "# from sklearn.feature_selection import SelectKBest\n",
    "# from sklearn.feature_selection import f_classif\n",
    "# from sklearn.pipeline import make_pipeline\n",
    "# from sklearn.ensemble import RandomForestClassifier\n",
    "# from sklearn.model_selection import cross_validate\n",
    "\n",
    "\n",
    "# model_with_selection = make_pipeline(\n",
    "#     SelectKBest(score_func=f_classif, k=2),\n",
    "#     RandomForestClassifier(n_jobs=2),\n",
    "# )\n",
    "\n",
    "# label_np = ravel(label_np)\n",
    "\n",
    "# cv_results_with_selection = cross_validate(\n",
    "#     model_with_selection, feature_np, label_np, return_estimator=True)\n",
    "# cv_results_with_selection = pd.DataFrame(cv_results_with_selection)\n",
    "\n",
    "# cv_results_with_selection\n"
   ]
  },
  {
   "cell_type": "code",
   "execution_count": 458,
   "metadata": {},
   "outputs": [
    {
     "name": "stdout",
     "output_type": "stream",
     "text": [
      "DecisionTreeClassifier(criterion='entropy', max_leaf_nodes=4, random_state=5)\n"
     ]
    },
    {
     "data": {
      "text/plain": [
       "0.8461538461538461"
      ]
     },
     "execution_count": 458,
     "metadata": {},
     "output_type": "execute_result"
    }
   ],
   "source": [
    "from sklearn.tree import DecisionTreeClassifier\n",
    "\n",
    "knn_parameters = {'k': range(3, 5), 's': [0.5, 0.7, 1.0]}\n",
    "score = 'f1_macro'\n",
    "\n",
    "# from imblearn.ensemble import BalancedRandomForestClassifier\n",
    "\n",
    "# classifier = GridSearchCV(MLkNN(), knn_parameters, scoring=score)\n",
    "# classifier = MLkNN()\n",
    "\n",
    "# classifier = DecisionTreeClassifier(max_leaf_nodes=max_leaf_nodes, random_state=rand_state) # https://scikit-learn.org/stable/modules/generated/sklearn.tree.DecisionTreeClassifier.html?highlight=decision%20tree%20classifier#sklearn.tree.DecisionTreeClassifier\n",
    "\n",
    "\n",
    "dt_parameters = {\n",
    "    'max_leaf_nodes': range(3, 15),\n",
    "    'criterion': [\"gini\", \"entropy\"]\n",
    "}\n",
    "gscv_dt_classifier = GridSearchCV(\n",
    "    DecisionTreeClassifier(random_state=rand_state),\n",
    "    param_grid=dt_parameters,\n",
    "    refit=True,\n",
    "    cv=5,\n",
    "    scoring=score,\n",
    "    error_score='raise'\n",
    ")\n",
    "# Fit with entire dataset\n",
    "gscv_dt_classifier.fit(feature_np, label_np)\n",
    "\n",
    "\n",
    "\n",
    "# Now get the best performing hyperparameters and we will use it by itself\n",
    "best_estimator = gscv_dt_classifier.best_estimator_\n",
    "print(best_estimator)\n",
    "best_max_leaf_nodes = gscv_dt_classifier.best_params_['max_leaf_nodes']\n",
    "\n",
    "\n",
    "# Build model and evaluate\n",
    "# classifier = BalancedRandomForestClassifier(n_estimators=500, random_state=rand_state)\n",
    "# classifier.fit(x_train, y_train)\n",
    "best_estimator.fit(x_train, y_train)\n",
    "# y_predicted = best_estimator.predict(x_test)\n",
    "best_score = best_estimator.score(x_test, y_test)\n",
    "best_score\n",
    "\n",
    "# print(classifier.best_params_, classifier.best_score_)\n",
    "# classifier.fit(X_resampled, y_resampled)\n"
   ]
  },
  {
   "cell_type": "code",
   "execution_count": 459,
   "metadata": {},
   "outputs": [
    {
     "data": {
      "text/plain": [
       "Text(0.5, 1.0, \"'powerlessness' with DecisionTreeClassifier(max_leaf_nodes=4, random_state=5)\")"
      ]
     },
     "execution_count": 459,
     "metadata": {},
     "output_type": "execute_result"
    },
    {
     "data": {
      "image/png": "[encoded data removed]",
      "text/plain": [
       "<Figure size 1440x1080 with 1 Axes>"
      ]
     },
     "metadata": {
      "needs_background": "light"
     },
     "output_type": "display_data"
    }
   ],
   "source": [
    "from sklearn import tree\n",
    "import matplotlib.pyplot as plt\n",
    "\n",
    "# print(export_text(classifier, feature_names=final_columns))\n",
    "\n",
    "tree_to_plot = gscv_dt_classifier.best_estimator_\n",
    "# tree_to_plot = best_estimator\n",
    "\n",
    "plt.figure(figsize=(20, 15))\n",
    "tree.plot_tree(tree_to_plot, feature_names=feature_names, class_names=[\n",
    "               'absent', target_label], label='root', filled=True, fontsize=7)\n",
    "               \n",
    "\n",
    "plt.title(f\"\\'{target_label}\\' with DecisionTreeClassifier(max_leaf_nodes={best_max_leaf_nodes}, random_state={rand_state})\")\n",
    "# plt.show()\n"
   ]
  },
  {
   "cell_type": "markdown",
   "metadata": {},
   "source": [
    "## **Evaluation**\n"
   ]
  },
  {
   "cell_type": "markdown",
   "metadata": {},
   "source": [
    "### Prediction\n"
   ]
  },
  {
   "cell_type": "code",
   "execution_count": 460,
   "metadata": {},
   "outputs": [
    {
     "ename": "NameError",
     "evalue": "name 'classifier' is not defined",
     "output_type": "error",
     "traceback": [
      "\u001b[0;31m---------------------------------------------------------------------------\u001b[0m",
      "\u001b[0;31mNameError\u001b[0m                                 Traceback (most recent call last)",
      "\u001b[0;32m/var/folders/1s/3kcd9ylx2b93yprv0wk327k40000gp/T/ipykernel_3615/1098428434.py\u001b[0m in \u001b[0;36m<module>\u001b[0;34m\u001b[0m\n\u001b[0;32m----> 1\u001b[0;31m \u001b[0mpredictions\u001b[0m \u001b[0;34m=\u001b[0m \u001b[0mclassifier\u001b[0m\u001b[0;34m.\u001b[0m\u001b[0mpredict\u001b[0m\u001b[0;34m(\u001b[0m\u001b[0mx_test\u001b[0m\u001b[0;34m)\u001b[0m\u001b[0;34m\u001b[0m\u001b[0;34m\u001b[0m\u001b[0m\n\u001b[0m",
      "\u001b[0;31mNameError\u001b[0m: name 'classifier' is not defined"
     ]
    }
   ],
   "source": [
    "predictions = classifier.predict(x_test)\n"
   ]
  },
  {
   "cell_type": "markdown",
   "metadata": {},
   "source": [
    "### Metrics\n"
   ]
  },
  {
   "cell_type": "code",
   "execution_count": null,
   "metadata": {},
   "outputs": [
    {
     "name": "stdout",
     "output_type": "stream",
     "text": [
      "Accuracy: 0.6923076923076923\n",
      "Haming Loss: 0.3076923076923077\n",
      "F1-score: 0.5\n"
     ]
    }
   ],
   "source": [
    "# scores = cross_val_score(classifier, x_test, y_test, cv=3, scoring='accuracy')\n",
    "\n",
    "print('Accuracy: ' + str(accuracy_score(y_test, predictions)))\n",
    "print('Haming Loss: ' + str(hamming_loss(y_test, predictions)))\n",
    "print('F1-score: ' + str(f1_score(y_test, predictions)))\n"
   ]
  },
  {
   "cell_type": "markdown",
   "metadata": {},
   "source": [
    "Display results\n"
   ]
  },
  {
   "cell_type": "code",
   "execution_count": null,
   "metadata": {},
   "outputs": [
    {
     "data": {
      "text/html": [
       "<div>\n",
       "<style scoped>\n",
       "    .dataframe tbody tr th:only-of-type {\n",
       "        vertical-align: middle;\n",
       "    }\n",
       "\n",
       "    .dataframe tbody tr th {\n",
       "        vertical-align: top;\n",
       "    }\n",
       "\n",
       "    .dataframe thead th {\n",
       "        text-align: right;\n",
       "    }\n",
       "</style>\n",
       "<table border=\"1\" class=\"dataframe\">\n",
       "  <thead>\n",
       "    <tr style=\"text-align: right;\">\n",
       "      <th></th>\n",
       "      <th>sample</th>\n",
       "      <th>y_true</th>\n",
       "      <th>y_pred</th>\n",
       "    </tr>\n",
       "  </thead>\n",
       "  <tbody>\n",
       "    <tr>\n",
       "      <th>0</th>\n",
       "      <td>A-Midsummer-Night-Dream-(Ouverture)_bitmidi.mid</td>\n",
       "      <td>0</td>\n",
       "      <td>0</td>\n",
       "    </tr>\n",
       "    <tr>\n",
       "      <th>1</th>\n",
       "      <td>Ain't-No-Sunshine_bitmidi.mid</td>\n",
       "      <td>0</td>\n",
       "      <td>0</td>\n",
       "    </tr>\n",
       "    <tr>\n",
       "      <th>2</th>\n",
       "      <td>Bonnie Tyler - Total Eclipse of the Heart_bitm...</td>\n",
       "      <td>0</td>\n",
       "      <td>0</td>\n",
       "    </tr>\n",
       "    <tr>\n",
       "      <th>3</th>\n",
       "      <td>A-Whole-New-World-(Theme-From-'Aladdin')_bitmi...</td>\n",
       "      <td>1</td>\n",
       "      <td>1</td>\n",
       "    </tr>\n",
       "    <tr>\n",
       "      <th>4</th>\n",
       "      <td>ABBA.Mamma Mia K_bitmidi.mid</td>\n",
       "      <td>1</td>\n",
       "      <td>1</td>\n",
       "    </tr>\n",
       "    <tr>\n",
       "      <th>5</th>\n",
       "      <td>coldplay-paradise_bitmidi.mid</td>\n",
       "      <td>1</td>\n",
       "      <td>1</td>\n",
       "    </tr>\n",
       "    <tr>\n",
       "      <th>6</th>\n",
       "      <td>Movie Themes_James Bond_midiworld.mid</td>\n",
       "      <td>0</td>\n",
       "      <td>0</td>\n",
       "    </tr>\n",
       "    <tr>\n",
       "      <th>7</th>\n",
       "      <td>Romantic_Flight Finale.mid</td>\n",
       "      <td>0</td>\n",
       "      <td>0</td>\n",
       "    </tr>\n",
       "    <tr>\n",
       "      <th>8</th>\n",
       "      <td>Avengers: Age of Ultron - Heroes_bitmidi.mid</td>\n",
       "      <td>0</td>\n",
       "      <td>0</td>\n",
       "    </tr>\n",
       "    <tr>\n",
       "      <th>9</th>\n",
       "      <td>Disney Themes_Hakuna Matata_midiworld.mid</td>\n",
       "      <td>0</td>\n",
       "      <td>0</td>\n",
       "    </tr>\n",
       "    <tr>\n",
       "      <th>10</th>\n",
       "      <td>FIVE.We will rock you K.MID_bitmidi.mid</td>\n",
       "      <td>1</td>\n",
       "      <td>1</td>\n",
       "    </tr>\n",
       "    <tr>\n",
       "      <th>11</th>\n",
       "      <td>C.DOUGLAS.Kung fu fighting K_bitmidi.mid</td>\n",
       "      <td>0</td>\n",
       "      <td>0</td>\n",
       "    </tr>\n",
       "    <tr>\n",
       "      <th>12</th>\n",
       "      <td>Isn't-She-Lovely-1_bitmidi.mid</td>\n",
       "      <td>0</td>\n",
       "      <td>0</td>\n",
       "    </tr>\n",
       "    <tr>\n",
       "      <th>13</th>\n",
       "      <td>Disney Themes_Gravity Falls Theme_midiworld.mid</td>\n",
       "      <td>0</td>\n",
       "      <td>0</td>\n",
       "    </tr>\n",
       "    <tr>\n",
       "      <th>14</th>\n",
       "      <td>BENSON.Nothing's gonna change my love for you_...</td>\n",
       "      <td>0</td>\n",
       "      <td>0</td>\n",
       "    </tr>\n",
       "    <tr>\n",
       "      <th>15</th>\n",
       "      <td>Disney Themes_Under The Sea_midiworld.mid</td>\n",
       "      <td>0</td>\n",
       "      <td>0</td>\n",
       "    </tr>\n",
       "    <tr>\n",
       "      <th>16</th>\n",
       "      <td>ABBA.Chiquitita K_bitmidi.mid</td>\n",
       "      <td>1</td>\n",
       "      <td>1</td>\n",
       "    </tr>\n",
       "    <tr>\n",
       "      <th>17</th>\n",
       "      <td>disney_bitmidi.mid</td>\n",
       "      <td>0</td>\n",
       "      <td>0</td>\n",
       "    </tr>\n",
       "    <tr>\n",
       "      <th>18</th>\n",
       "      <td>topsy.mid</td>\n",
       "      <td>0</td>\n",
       "      <td>0</td>\n",
       "    </tr>\n",
       "    <tr>\n",
       "      <th>19</th>\n",
       "      <td>Avatar: The Last Airbender - Leaves From The V...</td>\n",
       "      <td>0</td>\n",
       "      <td>0</td>\n",
       "    </tr>\n",
       "    <tr>\n",
       "      <th>20</th>\n",
       "      <td>Movie Themes_The Wizard of Oz - Over the Rainb...</td>\n",
       "      <td>0</td>\n",
       "      <td>0</td>\n",
       "    </tr>\n",
       "    <tr>\n",
       "      <th>21</th>\n",
       "      <td>Hans Zimmer - At World's End_bitmidi.mid</td>\n",
       "      <td>1</td>\n",
       "      <td>1</td>\n",
       "    </tr>\n",
       "    <tr>\n",
       "      <th>22</th>\n",
       "      <td>Happy-Birthday-2_bitmidi.mid</td>\n",
       "      <td>0</td>\n",
       "      <td>0</td>\n",
       "    </tr>\n",
       "    <tr>\n",
       "      <th>23</th>\n",
       "      <td>Backstreet Boys - I Want It That Way_bitmidi.mid</td>\n",
       "      <td>1</td>\n",
       "      <td>1</td>\n",
       "    </tr>\n",
       "    <tr>\n",
       "      <th>24</th>\n",
       "      <td>Movie Themes_Chariots of Fire - by Vangelis_mi...</td>\n",
       "      <td>1</td>\n",
       "      <td>1</td>\n",
       "    </tr>\n",
       "    <tr>\n",
       "      <th>25</th>\n",
       "      <td>Disney Themes_Colors Of The Wind_midiworld.mid</td>\n",
       "      <td>0</td>\n",
       "      <td>0</td>\n",
       "    </tr>\n",
       "  </tbody>\n",
       "</table>\n",
       "</div>"
      ],
      "text/plain": [
       "                                               sample  y_true  y_pred\n",
       "0     A-Midsummer-Night-Dream-(Ouverture)_bitmidi.mid       0       0\n",
       "1                       Ain't-No-Sunshine_bitmidi.mid       0       0\n",
       "2   Bonnie Tyler - Total Eclipse of the Heart_bitm...       0       0\n",
       "3   A-Whole-New-World-(Theme-From-'Aladdin')_bitmi...       1       1\n",
       "4                        ABBA.Mamma Mia K_bitmidi.mid       1       1\n",
       "5                       coldplay-paradise_bitmidi.mid       1       1\n",
       "6               Movie Themes_James Bond_midiworld.mid       0       0\n",
       "7                          Romantic_Flight Finale.mid       0       0\n",
       "8        Avengers: Age of Ultron - Heroes_bitmidi.mid       0       0\n",
       "9           Disney Themes_Hakuna Matata_midiworld.mid       0       0\n",
       "10            FIVE.We will rock you K.MID_bitmidi.mid       1       1\n",
       "11           C.DOUGLAS.Kung fu fighting K_bitmidi.mid       0       0\n",
       "12                     Isn't-She-Lovely-1_bitmidi.mid       0       0\n",
       "13    Disney Themes_Gravity Falls Theme_midiworld.mid       0       0\n",
       "14  BENSON.Nothing's gonna change my love for you_...       0       0\n",
       "15          Disney Themes_Under The Sea_midiworld.mid       0       0\n",
       "16                      ABBA.Chiquitita K_bitmidi.mid       1       1\n",
       "17                                 disney_bitmidi.mid       0       0\n",
       "18                                          topsy.mid       0       0\n",
       "19  Avatar: The Last Airbender - Leaves From The V...       0       0\n",
       "20  Movie Themes_The Wizard of Oz - Over the Rainb...       0       0\n",
       "21           Hans Zimmer - At World's End_bitmidi.mid       1       1\n",
       "22                       Happy-Birthday-2_bitmidi.mid       0       0\n",
       "23   Backstreet Boys - I Want It That Way_bitmidi.mid       1       1\n",
       "24  Movie Themes_Chariots of Fire - by Vangelis_mi...       1       1\n",
       "25     Disney Themes_Colors Of The Wind_midiworld.mid       0       0"
      ]
     },
     "execution_count": 134,
     "metadata": {},
     "output_type": "execute_result"
    }
   ],
   "source": [
    "predictions_df = pd.DataFrame(predictions, columns=label_df.columns)\n",
    "y_test_df = pd.DataFrame(predictions, columns=label_df.columns)\n",
    "\n",
    "results = pd.DataFrame(\n",
    "    # {'sample': ids_test, 'y_true': flat_y_true, 'y_pred': flat_predictions})\n",
    "    # {'sample': ids_test, 'y_true': y_test, 'y_pred': predictions})\n",
    "    {'sample': ids_test.reset_index(drop=True), 'y_true': y_test_df[target_label], 'y_pred': predictions_df[target_label]})\n",
    "\n",
    "results = results.sort_index()\n",
    "\n",
    "results\n"
   ]
  }
 ],
 "metadata": {
  "interpreter": {
   "hash": "c6e4e9f98eb68ad3b7c296f83d20e6de614cb42e90992a65aa266555a3137d0d"
  },
  "kernelspec": {
   "display_name": "Python 3.9.7 ('base')",
   "language": "python",
   "name": "python3"
  },
  "language_info": {
   "codemirror_mode": {
    "name": "ipython",
    "version": 3
   },
   "file_extension": ".py",
   "mimetype": "text/x-python",
   "name": "python",
   "nbconvert_exporter": "python",
   "pygments_lexer": "ipython3",
   "version": "3.9.7"
  },
  "orig_nbformat": 4
 },
 "nbformat": 4,
 "nbformat_minor": 2
}
