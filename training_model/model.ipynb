{
 "cells": [
  {
   "cell_type": "markdown",
   "metadata": {},
   "source": [
    "# **Music Theme Recognition**\n",
    "\n",
    "Chuang Caleb\n",
    "20204134"
   ]
  },
  {
   "cell_type": "markdown",
   "metadata": {},
   "source": [
    "## **Package Imports**"
   ]
  },
  {
   "cell_type": "code",
   "execution_count": 1,
   "metadata": {},
   "outputs": [],
   "source": [
    "import pandas as pd\n",
    "import numpy as np\n",
    "# from skmultilearn.dataset import load_dataset\n",
    "from sklearn.model_selection import train_test_split\n",
    "from sklearn.metrics import accuracy_score, hamming_loss, f1_score\n",
    "from skmultilearn.adapt import MLkNN\n",
    "from imblearn.under_sampling import ClusterCentroids"
   ]
  },
  {
   "cell_type": "markdown",
   "metadata": {},
   "source": [
    "## **Choosing Parameters**"
   ]
  },
  {
   "cell_type": "code",
   "execution_count": 2,
   "metadata": {},
   "outputs": [],
   "source": [
    "target_label = 'wonder'\n",
    "feature_start = 'Number_of_Pitches'\n",
    "feature_end = 'Metrical_Diversity'\n",
    "k_value = 3\n",
    "rand_state = 10"
   ]
  },
  {
   "cell_type": "markdown",
   "metadata": {},
   "source": [
    "## **Loading Data**\n",
    "\n",
    "### Importing Dataset"
   ]
  },
  {
   "cell_type": "markdown",
   "metadata": {},
   "source": [
    "#### Features"
   ]
  },
  {
   "cell_type": "code",
   "execution_count": 3,
   "metadata": {},
   "outputs": [],
   "source": [
    "# Access song_theme_feature_database\n",
    "song_theme_feature_database_path = '../data/features/song_theme_feature_database.csv'\n",
    "raw_feature_df = pd.read_csv(song_theme_feature_database_path)\n"
   ]
  },
  {
   "cell_type": "markdown",
   "metadata": {},
   "source": [
    "#### Labels"
   ]
  },
  {
   "cell_type": "code",
   "execution_count": 4,
   "metadata": {},
   "outputs": [],
   "source": [
    "# Access song_theme_labels_database\n",
    "song_theme_label_database_path = '../data/song_theme_label_database.xlsx'\n",
    "raw_label_df = pd.read_excel(song_theme_label_database_path)"
   ]
  },
  {
   "cell_type": "markdown",
   "metadata": {},
   "source": [
    "### Prepare datasets"
   ]
  },
  {
   "cell_type": "markdown",
   "metadata": {},
   "source": [
    "Select the features for this iteration"
   ]
  },
  {
   "cell_type": "code",
   "execution_count": 5,
   "metadata": {},
   "outputs": [],
   "source": [
    "# Feature Selection\n",
    "feature_df = raw_feature_df.loc[:,feature_start:feature_end]\n"
   ]
  },
  {
   "cell_type": "markdown",
   "metadata": {},
   "source": [
    "Select the labels for this iteration"
   ]
  },
  {
   "cell_type": "code",
   "execution_count": 6,
   "metadata": {},
   "outputs": [
    {
     "name": "stderr",
     "output_type": "stream",
     "text": [
      "/opt/homebrew/Caskroom/miniforge/base/lib/python3.9/site-packages/pandas/core/frame.py:4906: SettingWithCopyWarning: \n",
      "A value is trying to be set on a copy of a slice from a DataFrame\n",
      "\n",
      "See the caveats in the documentation: https://pandas.pydata.org/pandas-docs/stable/user_guide/indexing.html#returning-a-view-versus-a-copy\n",
      "  return super().drop(\n"
     ]
    }
   ],
   "source": [
    "# Filter for only recognized samples in labels_df\n",
    "main_label_df = raw_label_df[raw_label_df.recognizable == 1]\n",
    "\n",
    "# Filter out unused labels and metadata\n",
    "main_label_df.drop(main_label_df.columns[19:], axis=1, inplace=True) # unused labels\n",
    "main_label_df.drop(main_label_df.columns[0:4], axis=1, inplace=True) # metadata\n",
    "\n",
    "label_df = main_label_df[[target_label]]\n"
   ]
  },
  {
   "cell_type": "code",
   "execution_count": 7,
   "metadata": {},
   "outputs": [],
   "source": [
    "dum_label_df = raw_label_df[raw_label_df.recognizable == 1]\n",
    "comp_df = pd.DataFrame({'label': dum_label_df['sample'].reset_index(\n",
    "    drop=True), 'feat': raw_feature_df['sample']})\n",
    "\n",
    "mismatch_df = comp_df[comp_df.label != comp_df.feat]"
   ]
  },
  {
   "cell_type": "markdown",
   "metadata": {},
   "source": [
    "Convert to numpy type"
   ]
  },
  {
   "cell_type": "code",
   "execution_count": 8,
   "metadata": {},
   "outputs": [],
   "source": [
    "feature_np = feature_df.to_numpy()\n",
    "label_np= label_df.to_numpy().astype(int)\n"
   ]
  },
  {
   "cell_type": "markdown",
   "metadata": {},
   "source": [
    "Get list of samples"
   ]
  },
  {
   "cell_type": "code",
   "execution_count": 9,
   "metadata": {},
   "outputs": [],
   "source": [
    "sample_list = raw_feature_df['sample']\n"
   ]
  },
  {
   "cell_type": "markdown",
   "metadata": {},
   "source": [
    "### Prepare variables"
   ]
  },
  {
   "cell_type": "code",
   "execution_count": 10,
   "metadata": {},
   "outputs": [],
   "source": [
    "(x_train, x_test, y_train, y_test, ids_train, ids_test) = train_test_split(\n",
    "    feature_np, label_np, sample_list, test_size=0.2, random_state=rand_state)"
   ]
  },
  {
   "cell_type": "code",
   "execution_count": 11,
   "metadata": {},
   "outputs": [],
   "source": [
    "# from collections import Counter\n",
    "\n",
    "# cc = ClusterCentroids(random_state=0)\n",
    "# X_resampled, y_resampled = cc.fit_resample(x_train, y_train)\n",
    "# print(sorted(Counter(y_resampled).items()))\n",
    "\n",
    "# my_list = raw_label_df[raw_label_df.recognizable ==\n",
    "#                            1].loc[:, ['sample', 'risk']]\n"
   ]
  },
  {
   "cell_type": "markdown",
   "metadata": {},
   "source": [
    "## Preparing Model"
   ]
  },
  {
   "cell_type": "code",
   "execution_count": 12,
   "metadata": {},
   "outputs": [
    {
     "data": {
      "text/plain": [
       "MLkNN(k=3)"
      ]
     },
     "execution_count": 12,
     "metadata": {},
     "output_type": "execute_result"
    }
   ],
   "source": [
    "classifier = MLkNN(k=k_value)\n",
    "\n",
    "# train\n",
    "classifier.fit(x_train, y_train)\n",
    "# classifier.fit(X_resampled, y_resampled)"
   ]
  },
  {
   "cell_type": "code",
   "execution_count": 13,
   "metadata": {},
   "outputs": [
    {
     "name": "stdout",
     "output_type": "stream",
     "text": [
      "Accuracy: 0.6923076923076923\n",
      "Haming Loss: 0.3076923076923077\n",
      "F1-score: 0.5\n"
     ]
    }
   ],
   "source": [
    "# predict\n",
    "# predictions = classifier.predict(x_test)\n",
    "predictions = classifier.predict(x_test).asformat('array')\n",
    "\n",
    "# scores = cross_val_score(classifier, x_test, y_test, cv=3, scoring='accuracy')\n",
    "\n",
    "print('Accuracy: ' + str(accuracy_score(y_test, predictions)))\n",
    "print('Haming Loss: ' +  str(hamming_loss(y_test, predictions)))\n",
    "print('F1-score: ' +  str(f1_score(y_test, predictions)))\n",
    "\n",
    "\n",
    "flat_predictions = [val for sublist in predictions for val in sublist]\n",
    "flat_y_true = [val for sublist in y_test for val in sublist]\n",
    "# print(flat_predictions)\n",
    "# print(flat_y_true)\n",
    "\n"
   ]
  },
  {
   "cell_type": "markdown",
   "metadata": {},
   "source": [
    "## Evaluation"
   ]
  },
  {
   "cell_type": "code",
   "execution_count": 14,
   "metadata": {},
   "outputs": [
    {
     "data": {
      "text/html": [
       "<div>\n",
       "<style scoped>\n",
       "    .dataframe tbody tr th:only-of-type {\n",
       "        vertical-align: middle;\n",
       "    }\n",
       "\n",
       "    .dataframe tbody tr th {\n",
       "        vertical-align: top;\n",
       "    }\n",
       "\n",
       "    .dataframe thead th {\n",
       "        text-align: right;\n",
       "    }\n",
       "</style>\n",
       "<table border=\"1\" class=\"dataframe\">\n",
       "  <thead>\n",
       "    <tr style=\"text-align: right;\">\n",
       "      <th></th>\n",
       "      <th>sample</th>\n",
       "      <th>y_true</th>\n",
       "      <th>y_pred</th>\n",
       "    </tr>\n",
       "  </thead>\n",
       "  <tbody>\n",
       "    <tr>\n",
       "      <th>3</th>\n",
       "      <td>abba-dancing_queen_bitmidi.mid</td>\n",
       "      <td>0</td>\n",
       "      <td>0</td>\n",
       "    </tr>\n",
       "    <tr>\n",
       "      <th>5</th>\n",
       "      <td>ABBA.Angel Eyes K_bitmidi.mid</td>\n",
       "      <td>0</td>\n",
       "      <td>0</td>\n",
       "    </tr>\n",
       "    <tr>\n",
       "      <th>6</th>\n",
       "      <td>ABBA.Chiquitita K_bitmidi.mid</td>\n",
       "      <td>0</td>\n",
       "      <td>1</td>\n",
       "    </tr>\n",
       "    <tr>\n",
       "      <th>8</th>\n",
       "      <td>ABBA.Happy new year_bitmidi.mid</td>\n",
       "      <td>0</td>\n",
       "      <td>0</td>\n",
       "    </tr>\n",
       "    <tr>\n",
       "      <th>15</th>\n",
       "      <td>Ain't-No-Mountain-High-Enough_bitmidi.mid</td>\n",
       "      <td>0</td>\n",
       "      <td>0</td>\n",
       "    </tr>\n",
       "    <tr>\n",
       "      <th>17</th>\n",
       "      <td>Aladdin(AFriendLikeMe)_bitmidi.mid</td>\n",
       "      <td>1</td>\n",
       "      <td>0</td>\n",
       "    </tr>\n",
       "    <tr>\n",
       "      <th>23</th>\n",
       "      <td>AMRINGER.Can't help falling in love_bitmidi.mid</td>\n",
       "      <td>1</td>\n",
       "      <td>1</td>\n",
       "    </tr>\n",
       "    <tr>\n",
       "      <th>25</th>\n",
       "      <td>Another-One-Bites-The-Dust-1_bitmidi.mid</td>\n",
       "      <td>0</td>\n",
       "      <td>0</td>\n",
       "    </tr>\n",
       "    <tr>\n",
       "      <th>31</th>\n",
       "      <td>avicii-hey_brother_bitmidi.mid</td>\n",
       "      <td>0</td>\n",
       "      <td>1</td>\n",
       "    </tr>\n",
       "    <tr>\n",
       "      <th>34</th>\n",
       "      <td>B.TYLER.HoldinG out for hero K_bitmidi.mid</td>\n",
       "      <td>1</td>\n",
       "      <td>0</td>\n",
       "    </tr>\n",
       "    <tr>\n",
       "      <th>42</th>\n",
       "      <td>BENSON.Nothing's gonna change my love for you_...</td>\n",
       "      <td>0</td>\n",
       "      <td>0</td>\n",
       "    </tr>\n",
       "    <tr>\n",
       "      <th>45</th>\n",
       "      <td>Billy Joel - Piano Man_bitmidi.mid</td>\n",
       "      <td>0</td>\n",
       "      <td>1</td>\n",
       "    </tr>\n",
       "    <tr>\n",
       "      <th>47</th>\n",
       "      <td>Blackbird-1_bitmidi.mid</td>\n",
       "      <td>0</td>\n",
       "      <td>0</td>\n",
       "    </tr>\n",
       "    <tr>\n",
       "      <th>59</th>\n",
       "      <td>cantina-3_bitmidi.mid</td>\n",
       "      <td>0</td>\n",
       "      <td>0</td>\n",
       "    </tr>\n",
       "    <tr>\n",
       "      <th>65</th>\n",
       "      <td>coldplay-paradise_bitmidi.mid</td>\n",
       "      <td>1</td>\n",
       "      <td>1</td>\n",
       "    </tr>\n",
       "    <tr>\n",
       "      <th>77</th>\n",
       "      <td>FIVE.We will rock you K.MID_bitmidi.mid</td>\n",
       "      <td>0</td>\n",
       "      <td>0</td>\n",
       "    </tr>\n",
       "    <tr>\n",
       "      <th>82</th>\n",
       "      <td>G.MICHAE-QUEEN.Somebody to love_bitmidi.mid</td>\n",
       "      <td>0</td>\n",
       "      <td>0</td>\n",
       "    </tr>\n",
       "    <tr>\n",
       "      <th>83</th>\n",
       "      <td>go-tell-it-on-the-mountain-guitar-glenn-jarret...</td>\n",
       "      <td>0</td>\n",
       "      <td>0</td>\n",
       "    </tr>\n",
       "    <tr>\n",
       "      <th>84</th>\n",
       "      <td>God-Save-The-Queen-2_bitmidi.mid</td>\n",
       "      <td>0</td>\n",
       "      <td>0</td>\n",
       "    </tr>\n",
       "    <tr>\n",
       "      <th>94</th>\n",
       "      <td>impossiblei_bitmidi.mid</td>\n",
       "      <td>0</td>\n",
       "      <td>1</td>\n",
       "    </tr>\n",
       "    <tr>\n",
       "      <th>108</th>\n",
       "      <td>Disney Themes_Kiss The Girl_midiworld.mid</td>\n",
       "      <td>0</td>\n",
       "      <td>1</td>\n",
       "    </tr>\n",
       "    <tr>\n",
       "      <th>112</th>\n",
       "      <td>Disney Themes_You've Got A Friend_midiworld.mid</td>\n",
       "      <td>0</td>\n",
       "      <td>1</td>\n",
       "    </tr>\n",
       "    <tr>\n",
       "      <th>118</th>\n",
       "      <td>Movie Themes_Superman_midiworld.mid</td>\n",
       "      <td>1</td>\n",
       "      <td>1</td>\n",
       "    </tr>\n",
       "    <tr>\n",
       "      <th>122</th>\n",
       "      <td>TV Themes_Hawaii 50_midiworld.mid</td>\n",
       "      <td>0</td>\n",
       "      <td>0</td>\n",
       "    </tr>\n",
       "    <tr>\n",
       "      <th>123</th>\n",
       "      <td>TV Themes_Pokemon_midiworld.mid</td>\n",
       "      <td>1</td>\n",
       "      <td>1</td>\n",
       "    </tr>\n",
       "    <tr>\n",
       "      <th>124</th>\n",
       "      <td>John-Williams-Indiana-Jones-Theme-Anonymous-20...</td>\n",
       "      <td>0</td>\n",
       "      <td>0</td>\n",
       "    </tr>\n",
       "  </tbody>\n",
       "</table>\n",
       "</div>"
      ],
      "text/plain": [
       "                                                sample  y_true  y_pred\n",
       "3                       abba-dancing_queen_bitmidi.mid       0       0\n",
       "5                        ABBA.Angel Eyes K_bitmidi.mid       0       0\n",
       "6                        ABBA.Chiquitita K_bitmidi.mid       0       1\n",
       "8                      ABBA.Happy new year_bitmidi.mid       0       0\n",
       "15           Ain't-No-Mountain-High-Enough_bitmidi.mid       0       0\n",
       "17                  Aladdin(AFriendLikeMe)_bitmidi.mid       1       0\n",
       "23     AMRINGER.Can't help falling in love_bitmidi.mid       1       1\n",
       "25            Another-One-Bites-The-Dust-1_bitmidi.mid       0       0\n",
       "31                      avicii-hey_brother_bitmidi.mid       0       1\n",
       "34          B.TYLER.HoldinG out for hero K_bitmidi.mid       1       0\n",
       "42   BENSON.Nothing's gonna change my love for you_...       0       0\n",
       "45                  Billy Joel - Piano Man_bitmidi.mid       0       1\n",
       "47                             Blackbird-1_bitmidi.mid       0       0\n",
       "59                               cantina-3_bitmidi.mid       0       0\n",
       "65                       coldplay-paradise_bitmidi.mid       1       1\n",
       "77             FIVE.We will rock you K.MID_bitmidi.mid       0       0\n",
       "82         G.MICHAE-QUEEN.Somebody to love_bitmidi.mid       0       0\n",
       "83   go-tell-it-on-the-mountain-guitar-glenn-jarret...       0       0\n",
       "84                    God-Save-The-Queen-2_bitmidi.mid       0       0\n",
       "94                             impossiblei_bitmidi.mid       0       1\n",
       "108          Disney Themes_Kiss The Girl_midiworld.mid       0       1\n",
       "112    Disney Themes_You've Got A Friend_midiworld.mid       0       1\n",
       "118                Movie Themes_Superman_midiworld.mid       1       1\n",
       "122                  TV Themes_Hawaii 50_midiworld.mid       0       0\n",
       "123                    TV Themes_Pokemon_midiworld.mid       1       1\n",
       "124  John-Williams-Indiana-Jones-Theme-Anonymous-20...       0       0"
      ]
     },
     "execution_count": 14,
     "metadata": {},
     "output_type": "execute_result"
    }
   ],
   "source": [
    "results = pd.DataFrame(\n",
    "    {'sample': ids_test, 'y_true': flat_y_true, 'y_pred': flat_predictions})\n",
    "\n",
    "results = results.sort_index()\n",
    "\n",
    "# some_list = my_list.merge({'y_true':flat_y_true})\n",
    "\n",
    "# my_list[my_list['y_true'].notna()]\n",
    "# some_list\n",
    "\n",
    "# my_list = raw_label_df[raw_label_df.recognizable ==\n",
    "#                        1].loc[:, ['sample', 'love']]\n",
    "\n",
    "# final = results.merge(my_list, on='sample')\n",
    "\n",
    "# my_list\n",
    "# final\n",
    "results"
   ]
  }
 ],
 "metadata": {
  "interpreter": {
   "hash": "c6e4e9f98eb68ad3b7c296f83d20e6de614cb42e90992a65aa266555a3137d0d"
  },
  "kernelspec": {
   "display_name": "Python 3.9.7 ('base')",
   "language": "python",
   "name": "python3"
  },
  "language_info": {
   "codemirror_mode": {
    "name": "ipython",
    "version": 3
   },
   "file_extension": ".py",
   "mimetype": "text/x-python",
   "name": "python",
   "nbconvert_exporter": "python",
   "pygments_lexer": "ipython3",
   "version": "3.9.7"
  },
  "orig_nbformat": 4
 },
 "nbformat": 4,
 "nbformat_minor": 2
}
