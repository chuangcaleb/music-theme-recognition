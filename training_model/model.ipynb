{
 "cells": [
  {
   "cell_type": "markdown",
   "metadata": {},
   "source": [
    "# **Music Theme Recognition**\n",
    "\n",
    "Chuang Caleb\n",
    "20204134\n"
   ]
  },
  {
   "cell_type": "markdown",
   "metadata": {},
   "source": [
    "## **Package Imports**\n"
   ]
  },
  {
   "cell_type": "code",
   "execution_count": 136,
   "metadata": {},
   "outputs": [],
   "source": [
    "import pandas as pd\n",
    "import numpy as np\n",
    "\n",
    "from sklearn.feature_selection import VarianceThreshold\n",
    "\n",
    "from imblearn.over_sampling import RandomOverSampler\n",
    "from imblearn.under_sampling import ClusterCentroids\n",
    "\n",
    "from skmultilearn.adapt import MLkNN\n",
    "from sklearn.model_selection import GridSearchCV\n",
    "\n",
    "from sklearn.model_selection import train_test_split\n",
    "from sklearn.metrics import accuracy_score, hamming_loss, f1_score\n",
    "\n",
    "from manual_feature_preselection import mtr_load_feature_set"
   ]
  },
  {
   "cell_type": "markdown",
   "metadata": {},
   "source": [
    "## **Choosing Parameters**\n"
   ]
  },
  {
   "cell_type": "markdown",
   "metadata": {},
   "source": [
    "Load manually preselected/shortlisted features"
   ]
  },
  {
   "cell_type": "code",
   "execution_count": 137,
   "metadata": {},
   "outputs": [
    {
     "name": "stdout",
     "output_type": "stream",
     "text": [
      "\n",
      "Successfully written manually preselected features to manual_feature_preselection/manually_preselected_features.txt\n",
      "\n"
     ]
    }
   ],
   "source": [
    "preselected_feature_list = mtr_load_feature_set.load_feature_set()"
   ]
  },
  {
   "cell_type": "code",
   "execution_count": 138,
   "metadata": {},
   "outputs": [],
   "source": [
    "target_label = 'risk'\n",
    "feature_start = 'Vertical_Unisons'\n",
    "feature_end = 'Minor_Major_Triad_Ratio'\n",
    "\n",
    "k_value = 3\n",
    "\n",
    "threshold_val = 0\n",
    "\n",
    "rand_state = 15\n"
   ]
  },
  {
   "cell_type": "markdown",
   "metadata": {},
   "source": [
    "## **Importing Dataset**\n"
   ]
  },
  {
   "cell_type": "markdown",
   "metadata": {},
   "source": [
    "#### Features\n"
   ]
  },
  {
   "cell_type": "code",
   "execution_count": 139,
   "metadata": {},
   "outputs": [],
   "source": [
    "# Access song_theme_feature_database\n",
    "song_theme_feature_database_path = '../data/features/song_theme_feature_database.csv'\n",
    "raw_feature_df = pd.read_csv(song_theme_feature_database_path)"
   ]
  },
  {
   "cell_type": "markdown",
   "metadata": {},
   "source": [
    "#### Labels\n"
   ]
  },
  {
   "cell_type": "code",
   "execution_count": 140,
   "metadata": {},
   "outputs": [],
   "source": [
    "# Access song_theme_labels_database\n",
    "song_theme_label_database_path = '../data/song_theme_label_database.xlsx'\n",
    "raw_label_df = pd.read_excel(song_theme_label_database_path)\n"
   ]
  },
  {
   "cell_type": "markdown",
   "metadata": {},
   "source": [
    "## **Prepare datasets**\n"
   ]
  },
  {
   "cell_type": "markdown",
   "metadata": {},
   "source": [
    "### Manual Selection\n",
    "\n",
    "Select the features for this iteration\n"
   ]
  },
  {
   "cell_type": "code",
   "execution_count": 141,
   "metadata": {},
   "outputs": [],
   "source": [
    "# man_feature_df = raw_feature_df.loc[:, feature_start:feature_end]\n",
    "man_feature_df = raw_feature_df[preselected_feature_list]\n"
   ]
  },
  {
   "cell_type": "markdown",
   "metadata": {},
   "source": [
    "Select the labels for this iteration\n"
   ]
  },
  {
   "cell_type": "code",
   "execution_count": 142,
   "metadata": {},
   "outputs": [
    {
     "name": "stderr",
     "output_type": "stream",
     "text": [
      "/opt/homebrew/Caskroom/miniforge/base/lib/python3.9/site-packages/pandas/core/frame.py:4906: SettingWithCopyWarning: \n",
      "A value is trying to be set on a copy of a slice from a DataFrame\n",
      "\n",
      "See the caveats in the documentation: https://pandas.pydata.org/pandas-docs/stable/user_guide/indexing.html#returning-a-view-versus-a-copy\n",
      "  return super().drop(\n"
     ]
    }
   ],
   "source": [
    "# Filter for only recognized samples in labels_df\n",
    "main_label_df = raw_label_df[raw_label_df.recognizable == 1]\n",
    "\n",
    "# Filter out unused labels and metadata\n",
    "main_label_df.drop(\n",
    "    columns=main_label_df.columns[19:], axis=1, inplace=True)  # unused labels\n",
    "main_label_df.drop(\n",
    "    columns=main_label_df.columns[0:4], axis=1, inplace=True)  # metadata\n",
    "\n",
    "# label_df = main_label_df\n",
    "# label_df = main_label_df[target_label]\n",
    "label_df = main_label_df[[target_label]]\n"
   ]
  },
  {
   "cell_type": "markdown",
   "metadata": {},
   "source": [
    "### Feature Selection\n"
   ]
  },
  {
   "cell_type": "markdown",
   "metadata": {},
   "source": [
    "Filter out features with zero variance\n"
   ]
  },
  {
   "cell_type": "code",
   "execution_count": 143,
   "metadata": {},
   "outputs": [
    {
     "name": "stdout",
     "output_type": "stream",
     "text": [
      "Started with 199 features.\n",
      "Removed 1 feature(s) that having variance of 0.\n",
      "There are 198 features left.\n"
     ]
    }
   ],
   "source": [
    "constant_filter = VarianceThreshold(threshold=threshold_val)\n",
    "constant_filter.fit(man_feature_df)\n",
    "constant_columns = [column for column in man_feature_df.columns\n",
    "                    if column not in\n",
    "                    man_feature_df.columns[constant_filter.get_support()]]\n",
    "var_feature_np = constant_filter.transform(man_feature_df)\n",
    "# x_test = constant_filter.transform(label_df)\n",
    "# for column in constant_columns:\n",
    "#     print(\"Removed \", column)\n",
    "print(f\"Started with {man_feature_df.shape[1]} features.\")\n",
    "print(\n",
    "    f\"Removed {len(constant_columns)} feature(s) that having variance of {threshold_val}.\")\n",
    "print(f\"There are {(var_feature_np.shape[1])} features left.\")\n",
    "\n",
    "feature_names = [\n",
    "    x for x in man_feature_df.columns if not x in constant_columns]\n"
   ]
  },
  {
   "cell_type": "markdown",
   "metadata": {},
   "source": [
    "Filter out features with low importance\n"
   ]
  },
  {
   "cell_type": "code",
   "execution_count": null,
   "metadata": {},
   "outputs": [],
   "source": []
  },
  {
   "cell_type": "markdown",
   "metadata": {},
   "source": [
    "## **Transforming Data**\n"
   ]
  },
  {
   "cell_type": "code",
   "execution_count": 144,
   "metadata": {},
   "outputs": [],
   "source": [
    "# from numpy import ravel\n",
    "\n",
    "# feature_np = feature_df.to_numpy()\n",
    "# label_np = label_df.to_numpy()\n",
    "# # feature_np = feature_df\n",
    "# # label_np = label_df\n",
    "\n",
    "# feature_np = feature_df.to_numpy()\n",
    "feature_np = var_feature_np\n",
    "label_np = label_df.to_numpy().astype(int)\n",
    "\n",
    "ids_df = raw_feature_df['sample']\n"
   ]
  },
  {
   "cell_type": "markdown",
   "metadata": {},
   "source": [
    "### Splitting dataset\n"
   ]
  },
  {
   "cell_type": "code",
   "execution_count": 145,
   "metadata": {},
   "outputs": [],
   "source": [
    "(x_train, x_test, y_train, y_test, ids_train, ids_test) = train_test_split(\n",
    "    feature_np, label_np, ids_df, test_size=0.2, random_state=rand_state)\n"
   ]
  },
  {
   "cell_type": "code",
   "execution_count": 146,
   "metadata": {},
   "outputs": [
    {
     "data": {
      "text/plain": [
       "(130, 198)"
      ]
     },
     "execution_count": 146,
     "metadata": {},
     "output_type": "execute_result"
    }
   ],
   "source": [
    "var_feature_np.shape"
   ]
  },
  {
   "cell_type": "markdown",
   "metadata": {},
   "source": [
    "### Sampling Data\n",
    "\n",
    "For balanced dataset\n"
   ]
  },
  {
   "cell_type": "code",
   "execution_count": 147,
   "metadata": {},
   "outputs": [],
   "source": [
    "# from imblearn.over_sampling import RandomOverSampler\n",
    "# ros = RandomOverSampler(random_state=0,shrinkage= 0.4)\n",
    "# X_resampled, y_resampled = ros.fit_resample(x_train, y_train)\n",
    "\n",
    "# from collections import Counter\n",
    "# print(sorted(Counter(y_resampled).items()))\n"
   ]
  },
  {
   "cell_type": "code",
   "execution_count": 148,
   "metadata": {},
   "outputs": [],
   "source": [
    "# from imblearn.under_sampling import RandomUnderSampler\n",
    "# rus = RandomUnderSampler(random_state=0)\n",
    "# X_resampled, y_resampled = rus.fit_resample(x_train, y_train)\n",
    "\n",
    "# from collections import Counter\n",
    "# print(sorted(Counter(y_resampled).items()))\n"
   ]
  },
  {
   "cell_type": "code",
   "execution_count": 149,
   "metadata": {},
   "outputs": [],
   "source": [
    "# from imblearn.over_sampling import SMOTE\n",
    "# smote = SMOTE(random_state=888)\n",
    "# x_train, y_train = smote.fit_resample(x_train, y_train)\n",
    "\n",
    "# y_train.value_counts()\n"
   ]
  },
  {
   "cell_type": "markdown",
   "metadata": {},
   "source": [
    "## **Working Model**\n"
   ]
  },
  {
   "cell_type": "code",
   "execution_count": 150,
   "metadata": {},
   "outputs": [],
   "source": [
    "# from sklearn.feature_selection import SelectKBest\n",
    "# from sklearn.feature_selection import f_classif\n",
    "# from sklearn.pipeline import make_pipeline\n",
    "# from sklearn.ensemble import RandomForestClassifier\n",
    "# from sklearn.model_selection import cross_validate\n",
    "\n",
    "\n",
    "# model_with_selection = make_pipeline(\n",
    "#     SelectKBest(score_func=f_classif, k=2),\n",
    "#     RandomForestClassifier(n_jobs=2),\n",
    "# )\n",
    "\n",
    "# label_np = ravel(label_np)\n",
    "\n",
    "# cv_results_with_selection = cross_validate(\n",
    "#     model_with_selection, feature_np, label_np, return_estimator=True)\n",
    "# cv_results_with_selection = pd.DataFrame(cv_results_with_selection)\n",
    "\n",
    "# cv_results_with_selection\n"
   ]
  },
  {
   "cell_type": "code",
   "execution_count": 151,
   "metadata": {},
   "outputs": [
    {
     "data": {
      "text/plain": [
       "DecisionTreeClassifier(max_leaf_nodes=10, random_state=15)"
      ]
     },
     "execution_count": 151,
     "metadata": {},
     "output_type": "execute_result"
    }
   ],
   "source": [
    "from sklearn.tree import DecisionTreeClassifier\n",
    "\n",
    "parameters = {'k': range(3, 5), 's': [0.5, 0.7, 1.0]}\n",
    "score = 'f1_macro'\n",
    "# from imblearn.ensemble import BalancedRandomForestClassifier\n",
    "\n",
    "# classifier = GridSearchCV(MLkNN(), parameters, scoring=score)\n",
    "# classifier = MLkNN()\n",
    "\n",
    "classifier = DecisionTreeClassifier(max_leaf_nodes=10, random_state=rand_state) # https://scikit-learn.org/stable/modules/generated/sklearn.tree.DecisionTreeClassifier.html?highlight=decision%20tree%20classifier#sklearn.tree.DecisionTreeClassifier\n",
    "\n",
    "# classifier = BalancedRandomForestClassifier(n_estimators=500, random_state=rand_state)\n",
    "classifier.fit(x_train, y_train)\n",
    "\n",
    "# print(classifier.best_params_, classifier.best_score_)\n",
    "# classifier.fit(X_resampled, y_resampled)\n"
   ]
  },
  {
   "cell_type": "code",
   "execution_count": 152,
   "metadata": {},
   "outputs": [
    {
     "data": {
      "text/plain": [
       "[Text(0.5, 0.9, 'Melodic_Perfect_Fourths <= 0.062\\ngini = 0.273\\nsamples = 104\\nvalue = [87, 17]\\nclass = null'),\n",
       " Text(0.3076923076923077, 0.7, 'Mean_Tempo <= 119.75\\n0.5\\n26\\n[13, 13]\\nnull'),\n",
       " Text(0.15384615384615385, 0.5, 'Minimum_Note_Duration <= 0.001\\n0.26\\n13\\n[11, 2]\\nnull'),\n",
       " Text(0.07692307692307693, 0.3, '0.0\\n2\\n[0, 2]\\nrisk'),\n",
       " Text(0.23076923076923078, 0.3, '0.0\\n11\\n[11, 0]\\nnull'),\n",
       " Text(0.46153846153846156, 0.5, 'Perfect_Vertical_Intervals <= 0.418\\n0.26\\n13\\n[2, 11]\\nrisk'),\n",
       " Text(0.38461538461538464, 0.3, '0.0\\n2\\n[2, 0]\\nnull'),\n",
       " Text(0.5384615384615384, 0.3, '0.0\\n11\\n[0, 11]\\nrisk'),\n",
       " Text(0.6923076923076923, 0.7, 'Pitch_Class_Kurtosis <= 4.55\\n0.097\\n78\\n[74, 4]\\nnull'),\n",
       " Text(0.6153846153846154, 0.5, '0.0\\n2\\n[0, 2]\\nrisk'),\n",
       " Text(0.7692307692307693, 0.5, 'Stepwise_Motion <= 0.042\\n0.051\\n76\\n[74, 2]\\nnull'),\n",
       " Text(0.6923076923076923, 0.3, '0.0\\n1\\n[0, 1]\\nrisk'),\n",
       " Text(0.8461538461538461, 0.3, 'Prevalence_of_Most_Common_Pitch <= 0.048\\n0.026\\n75\\n[74, 1]\\nnull'),\n",
       " Text(0.7692307692307693, 0.1, '0.0\\n1\\n[0, 1]\\nrisk'),\n",
       " Text(0.9230769230769231, 0.1, '0.0\\n74\\n[74, 0]\\nnull')]"
      ]
     },
     "execution_count": 152,
     "metadata": {},
     "output_type": "execute_result"
    },
    {
     "data": {
      "image/png": "[encoded data removed]",
      "text/plain": [
       "<Figure size 1080x1080 with 1 Axes>"
      ]
     },
     "metadata": {
      "needs_background": "light"
     },
     "output_type": "display_data"
    }
   ],
   "source": [
    "from sklearn import tree\n",
    "import matplotlib.pyplot as plt\n",
    "\n",
    "# print(export_text(classifier, feature_names=final_columns))\n",
    "\n",
    "plt.figure(figsize=(15, 15))\n",
    "tree.plot_tree(classifier, feature_names=feature_names, class_names=[\n",
    "               'null', target_label], label='root', filled=True, fontsize=7)\n"
   ]
  },
  {
   "cell_type": "markdown",
   "metadata": {},
   "source": [
    "## **Evaluation**\n"
   ]
  },
  {
   "cell_type": "markdown",
   "metadata": {},
   "source": [
    "### Prediction\n"
   ]
  },
  {
   "cell_type": "code",
   "execution_count": 153,
   "metadata": {},
   "outputs": [],
   "source": [
    "predictions = classifier.predict(x_test)\n"
   ]
  },
  {
   "cell_type": "markdown",
   "metadata": {},
   "source": [
    "### Metrics\n"
   ]
  },
  {
   "cell_type": "code",
   "execution_count": 154,
   "metadata": {},
   "outputs": [
    {
     "name": "stdout",
     "output_type": "stream",
     "text": [
      "Accuracy: 0.7307692307692307\n",
      "Haming Loss: 0.2692307692307692\n",
      "F1-score: 0.2222222222222222\n"
     ]
    }
   ],
   "source": [
    "# scores = cross_val_score(classifier, x_test, y_test, cv=3, scoring='accuracy')\n",
    "\n",
    "print('Accuracy: ' + str(accuracy_score(y_test, predictions)))\n",
    "print('Haming Loss: ' + str(hamming_loss(y_test, predictions)))\n",
    "print('F1-score: ' + str(f1_score(y_test, predictions)))\n"
   ]
  },
  {
   "cell_type": "markdown",
   "metadata": {},
   "source": [
    "Display results\n"
   ]
  },
  {
   "cell_type": "code",
   "execution_count": 155,
   "metadata": {},
   "outputs": [
    {
     "data": {
      "text/html": [
       "<div>\n",
       "<style scoped>\n",
       "    .dataframe tbody tr th:only-of-type {\n",
       "        vertical-align: middle;\n",
       "    }\n",
       "\n",
       "    .dataframe tbody tr th {\n",
       "        vertical-align: top;\n",
       "    }\n",
       "\n",
       "    .dataframe thead th {\n",
       "        text-align: right;\n",
       "    }\n",
       "</style>\n",
       "<table border=\"1\" class=\"dataframe\">\n",
       "  <thead>\n",
       "    <tr style=\"text-align: right;\">\n",
       "      <th></th>\n",
       "      <th>sample</th>\n",
       "      <th>y_true</th>\n",
       "      <th>y_pred</th>\n",
       "    </tr>\n",
       "  </thead>\n",
       "  <tbody>\n",
       "    <tr>\n",
       "      <th>0</th>\n",
       "      <td>court.mid</td>\n",
       "      <td>1</td>\n",
       "      <td>1</td>\n",
       "    </tr>\n",
       "    <tr>\n",
       "      <th>1</th>\n",
       "      <td>adele-rolling_in_the_deep_bitmidi.mid</td>\n",
       "      <td>0</td>\n",
       "      <td>0</td>\n",
       "    </tr>\n",
       "    <tr>\n",
       "      <th>2</th>\n",
       "      <td>coldplay-a_sky_full_of_stars_bitmidi.mid</td>\n",
       "      <td>0</td>\n",
       "      <td>0</td>\n",
       "    </tr>\n",
       "    <tr>\n",
       "      <th>3</th>\n",
       "      <td>braveheart_bitmidi.mid</td>\n",
       "      <td>0</td>\n",
       "      <td>0</td>\n",
       "    </tr>\n",
       "    <tr>\n",
       "      <th>4</th>\n",
       "      <td>Romantic_Flight Finale.mid</td>\n",
       "      <td>0</td>\n",
       "      <td>0</td>\n",
       "    </tr>\n",
       "    <tr>\n",
       "      <th>5</th>\n",
       "      <td>I Just Can't Wait To Be King.BSO The Lion King...</td>\n",
       "      <td>0</td>\n",
       "      <td>0</td>\n",
       "    </tr>\n",
       "    <tr>\n",
       "      <th>6</th>\n",
       "      <td>Disney Themes_The Bear Necessities_midiworld.mid</td>\n",
       "      <td>0</td>\n",
       "      <td>0</td>\n",
       "    </tr>\n",
       "    <tr>\n",
       "      <th>7</th>\n",
       "      <td>Billy Joel - Uptown Girl_bitmidi.mid</td>\n",
       "      <td>0</td>\n",
       "      <td>0</td>\n",
       "    </tr>\n",
       "    <tr>\n",
       "      <th>8</th>\n",
       "      <td>allstar_bitmidi.mid</td>\n",
       "      <td>0</td>\n",
       "      <td>0</td>\n",
       "    </tr>\n",
       "    <tr>\n",
       "      <th>9</th>\n",
       "      <td>Happy-Birthday-2_bitmidi.mid</td>\n",
       "      <td>1</td>\n",
       "      <td>1</td>\n",
       "    </tr>\n",
       "    <tr>\n",
       "      <th>10</th>\n",
       "      <td>Disney Themes_Under The Sea_midiworld.mid</td>\n",
       "      <td>0</td>\n",
       "      <td>0</td>\n",
       "    </tr>\n",
       "    <tr>\n",
       "      <th>11</th>\n",
       "      <td>Disney Themes_Gravity Falls Theme_midiworld.mid</td>\n",
       "      <td>0</td>\n",
       "      <td>0</td>\n",
       "    </tr>\n",
       "    <tr>\n",
       "      <th>12</th>\n",
       "      <td>EURYTHMICS.Sweet dreams K_bitmidi.mid</td>\n",
       "      <td>0</td>\n",
       "      <td>0</td>\n",
       "    </tr>\n",
       "    <tr>\n",
       "      <th>13</th>\n",
       "      <td>Isn't-She-Lovely-1_bitmidi.mid</td>\n",
       "      <td>0</td>\n",
       "      <td>0</td>\n",
       "    </tr>\n",
       "    <tr>\n",
       "      <th>14</th>\n",
       "      <td>BRITNEY SPEARS.Baby one more time K_bitmidi.mid</td>\n",
       "      <td>0</td>\n",
       "      <td>0</td>\n",
       "    </tr>\n",
       "    <tr>\n",
       "      <th>15</th>\n",
       "      <td>Avengers: Age of Ultron - Heroes_bitmidi.mid</td>\n",
       "      <td>1</td>\n",
       "      <td>1</td>\n",
       "    </tr>\n",
       "    <tr>\n",
       "      <th>16</th>\n",
       "      <td>bastille-pompeii_bitmidi.mid</td>\n",
       "      <td>0</td>\n",
       "      <td>0</td>\n",
       "    </tr>\n",
       "    <tr>\n",
       "      <th>17</th>\n",
       "      <td>cantina-3_bitmidi.mid</td>\n",
       "      <td>0</td>\n",
       "      <td>0</td>\n",
       "    </tr>\n",
       "    <tr>\n",
       "      <th>18</th>\n",
       "      <td>John williams_Star Wars Cello Bass Duet_midiwo...</td>\n",
       "      <td>0</td>\n",
       "      <td>0</td>\n",
       "    </tr>\n",
       "    <tr>\n",
       "      <th>19</th>\n",
       "      <td>imagine_dragons-demons_bitmidi.mid</td>\n",
       "      <td>0</td>\n",
       "      <td>0</td>\n",
       "    </tr>\n",
       "    <tr>\n",
       "      <th>20</th>\n",
       "      <td>ABBA.Happy new year_bitmidi.mid</td>\n",
       "      <td>0</td>\n",
       "      <td>0</td>\n",
       "    </tr>\n",
       "    <tr>\n",
       "      <th>21</th>\n",
       "      <td>Imagine dragons - Radioactive_bitmidi.mid</td>\n",
       "      <td>0</td>\n",
       "      <td>0</td>\n",
       "    </tr>\n",
       "    <tr>\n",
       "      <th>22</th>\n",
       "      <td>Another-One-Bites-The-Dust-1_bitmidi.mid</td>\n",
       "      <td>0</td>\n",
       "      <td>0</td>\n",
       "    </tr>\n",
       "    <tr>\n",
       "      <th>23</th>\n",
       "      <td>EUROPE.The final countdown K_bitmidi.mid</td>\n",
       "      <td>0</td>\n",
       "      <td>0</td>\n",
       "    </tr>\n",
       "    <tr>\n",
       "      <th>24</th>\n",
       "      <td>D.BYAS.Over the rainbow_bitmidi.mid</td>\n",
       "      <td>0</td>\n",
       "      <td>0</td>\n",
       "    </tr>\n",
       "    <tr>\n",
       "      <th>25</th>\n",
       "      <td>Godhelpt.mid</td>\n",
       "      <td>0</td>\n",
       "      <td>0</td>\n",
       "    </tr>\n",
       "  </tbody>\n",
       "</table>\n",
       "</div>"
      ],
      "text/plain": [
       "                                               sample  y_true  y_pred\n",
       "0                                           court.mid       1       1\n",
       "1               adele-rolling_in_the_deep_bitmidi.mid       0       0\n",
       "2            coldplay-a_sky_full_of_stars_bitmidi.mid       0       0\n",
       "3                              braveheart_bitmidi.mid       0       0\n",
       "4                          Romantic_Flight Finale.mid       0       0\n",
       "5   I Just Can't Wait To Be King.BSO The Lion King...       0       0\n",
       "6    Disney Themes_The Bear Necessities_midiworld.mid       0       0\n",
       "7                Billy Joel - Uptown Girl_bitmidi.mid       0       0\n",
       "8                                 allstar_bitmidi.mid       0       0\n",
       "9                        Happy-Birthday-2_bitmidi.mid       1       1\n",
       "10          Disney Themes_Under The Sea_midiworld.mid       0       0\n",
       "11    Disney Themes_Gravity Falls Theme_midiworld.mid       0       0\n",
       "12              EURYTHMICS.Sweet dreams K_bitmidi.mid       0       0\n",
       "13                     Isn't-She-Lovely-1_bitmidi.mid       0       0\n",
       "14    BRITNEY SPEARS.Baby one more time K_bitmidi.mid       0       0\n",
       "15       Avengers: Age of Ultron - Heroes_bitmidi.mid       1       1\n",
       "16                       bastille-pompeii_bitmidi.mid       0       0\n",
       "17                              cantina-3_bitmidi.mid       0       0\n",
       "18  John williams_Star Wars Cello Bass Duet_midiwo...       0       0\n",
       "19                 imagine_dragons-demons_bitmidi.mid       0       0\n",
       "20                    ABBA.Happy new year_bitmidi.mid       0       0\n",
       "21          Imagine dragons - Radioactive_bitmidi.mid       0       0\n",
       "22           Another-One-Bites-The-Dust-1_bitmidi.mid       0       0\n",
       "23           EUROPE.The final countdown K_bitmidi.mid       0       0\n",
       "24                D.BYAS.Over the rainbow_bitmidi.mid       0       0\n",
       "25                                       Godhelpt.mid       0       0"
      ]
     },
     "execution_count": 155,
     "metadata": {},
     "output_type": "execute_result"
    }
   ],
   "source": [
    "predictions_df = pd.DataFrame(predictions, columns=label_df.columns)\n",
    "y_test_df = pd.DataFrame(predictions, columns=label_df.columns)\n",
    "\n",
    "results = pd.DataFrame(\n",
    "    # {'sample': ids_test, 'y_true': flat_y_true, 'y_pred': flat_predictions})\n",
    "    # {'sample': ids_test, 'y_true': y_test, 'y_pred': predictions})\n",
    "    {'sample': ids_test.reset_index(drop=True), 'y_true': y_test_df[target_label], 'y_pred': predictions_df[target_label]})\n",
    "\n",
    "results = results.sort_index()\n",
    "\n",
    "results\n"
   ]
  }
 ],
 "metadata": {
  "interpreter": {
   "hash": "c6e4e9f98eb68ad3b7c296f83d20e6de614cb42e90992a65aa266555a3137d0d"
  },
  "kernelspec": {
   "display_name": "Python 3.9.7 ('base')",
   "language": "python",
   "name": "python3"
  },
  "language_info": {
   "codemirror_mode": {
    "name": "ipython",
    "version": 3
   },
   "file_extension": ".py",
   "mimetype": "text/x-python",
   "name": "python",
   "nbconvert_exporter": "python",
   "pygments_lexer": "ipython3",
   "version": "3.9.7"
  },
  "orig_nbformat": 4
 },
 "nbformat": 4,
 "nbformat_minor": 2
}
