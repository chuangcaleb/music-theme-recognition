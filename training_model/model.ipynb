{
 "cells": [
  {
   "cell_type": "markdown",
   "metadata": {},
   "source": [
    "# **Music Theme Recognition**\n",
    "\n",
    "Chuang Caleb\n",
    "20204134\n"
   ]
  },
  {
   "cell_type": "markdown",
   "metadata": {},
   "source": [
    "## **Package Imports**\n"
   ]
  },
  {
   "cell_type": "code",
   "execution_count": 11,
   "metadata": {},
   "outputs": [
    {
     "ename": "FileNotFoundError",
     "evalue": "[Errno 2] No such file or directory: 'training_model/mtr_utils/feature_selection/feature_set.json'",
     "output_type": "error",
     "traceback": [
      "\u001b[0;31m---------------------------------------------------------------------------\u001b[0m",
      "\u001b[0;31mFileNotFoundError\u001b[0m                         Traceback (most recent call last)",
      "\u001b[0;32m/var/folders/1s/3kcd9ylx2b93yprv0wk327k40000gp/T/ipykernel_11592/855003090.py\u001b[0m in \u001b[0;36m<module>\u001b[0;34m\u001b[0m\n\u001b[1;32m     13\u001b[0m \u001b[0;32mfrom\u001b[0m \u001b[0msklearn\u001b[0m\u001b[0;34m.\u001b[0m\u001b[0mmetrics\u001b[0m \u001b[0;32mimport\u001b[0m \u001b[0maccuracy_score\u001b[0m\u001b[0;34m,\u001b[0m \u001b[0mhamming_loss\u001b[0m\u001b[0;34m,\u001b[0m \u001b[0mf1_score\u001b[0m\u001b[0;34m\u001b[0m\u001b[0;34m\u001b[0m\u001b[0m\n\u001b[1;32m     14\u001b[0m \u001b[0;34m\u001b[0m\u001b[0m\n\u001b[0;32m---> 15\u001b[0;31m \u001b[0;32mfrom\u001b[0m \u001b[0mmtr_utils\u001b[0m\u001b[0;34m.\u001b[0m\u001b[0mfeature_selection\u001b[0m\u001b[0;34m.\u001b[0m\u001b[0mload_feature_set\u001b[0m \u001b[0;32mimport\u001b[0m \u001b[0mload_presel_features\u001b[0m\u001b[0;34m\u001b[0m\u001b[0;34m\u001b[0m\u001b[0m\n\u001b[0m",
      "\u001b[0;32m~/Documents/1Notts/fyp/music-theme-recognition/training_model/mtr_utils/feature_selection/load_feature_set.py\u001b[0m in \u001b[0;36m<module>\u001b[0;34m\u001b[0m\n\u001b[1;32m     57\u001b[0m \u001b[0;34m\u001b[0m\u001b[0m\n\u001b[1;32m     58\u001b[0m \u001b[0;34m\u001b[0m\u001b[0m\n\u001b[0;32m---> 59\u001b[0;31m preselected_feature_list = load_presel_features(\n\u001b[0m\u001b[1;32m     60\u001b[0m     json_file_path, output_file_path)\n",
      "\u001b[0;32m~/Documents/1Notts/fyp/music-theme-recognition/training_model/mtr_utils/feature_selection/load_feature_set.py\u001b[0m in \u001b[0;36mload_presel_features\u001b[0;34m(json_file_path, output_file_path)\u001b[0m\n\u001b[1;32m     11\u001b[0m \u001b[0;34m\u001b[0m\u001b[0m\n\u001b[1;32m     12\u001b[0m     features_file = json.loads(\n\u001b[0;32m---> 13\u001b[0;31m         \u001b[0mopen\u001b[0m\u001b[0;34m(\u001b[0m\u001b[0mjson_file_path\u001b[0m\u001b[0;34m)\u001b[0m\u001b[0;34m.\u001b[0m\u001b[0mread\u001b[0m\u001b[0;34m(\u001b[0m\u001b[0;34m)\u001b[0m\u001b[0;34m\u001b[0m\u001b[0;34m\u001b[0m\u001b[0m\n\u001b[0m\u001b[1;32m     14\u001b[0m     )\n\u001b[1;32m     15\u001b[0m \u001b[0;34m\u001b[0m\u001b[0m\n",
      "\u001b[0;31mFileNotFoundError\u001b[0m: [Errno 2] No such file or directory: 'training_model/mtr_utils/feature_selection/feature_set.json'"
     ]
    }
   ],
   "source": [
    "import pandas as pd\n",
    "import numpy as np\n",
    "\n",
    "from sklearn.feature_selection import VarianceThreshold\n",
    "\n",
    "from imblearn.over_sampling import RandomOverSampler\n",
    "from imblearn.under_sampling import ClusterCentroids\n",
    "\n",
    "from skmultilearn.adapt import MLkNN\n",
    "from sklearn.model_selection import GridSearchCV\n",
    "\n",
    "from sklearn.model_selection import train_test_split\n",
    "from sklearn.metrics import accuracy_score, hamming_loss, f1_score\n",
    "\n",
    "from mtr_utils.feature_selection.load_feature_set import load_presel_features"
   ]
  },
  {
   "cell_type": "markdown",
   "metadata": {},
   "source": [
    "## **Choosing Parameters**\n"
   ]
  },
  {
   "cell_type": "markdown",
   "metadata": {},
   "source": [
    "Load manually preselected/shortlisted features"
   ]
  },
  {
   "cell_type": "code",
   "execution_count": 10,
   "metadata": {},
   "outputs": [
    {
     "ename": "NameError",
     "evalue": "name 'load_presel_features' is not defined",
     "output_type": "error",
     "traceback": [
      "\u001b[0;31m---------------------------------------------------------------------------\u001b[0m",
      "\u001b[0;31mNameError\u001b[0m                                 Traceback (most recent call last)",
      "\u001b[0;32m/var/folders/1s/3kcd9ylx2b93yprv0wk327k40000gp/T/ipykernel_11592/2291314204.py\u001b[0m in \u001b[0;36m<module>\u001b[0;34m\u001b[0m\n\u001b[0;32m----> 1\u001b[0;31m \u001b[0mpreselected_feature_list\u001b[0m \u001b[0;34m=\u001b[0m \u001b[0mload_presel_features\u001b[0m\u001b[0;34m(\u001b[0m\u001b[0;34m)\u001b[0m\u001b[0;34m\u001b[0m\u001b[0;34m\u001b[0m\u001b[0m\n\u001b[0m",
      "\u001b[0;31mNameError\u001b[0m: name 'load_presel_features' is not defined"
     ]
    }
   ],
   "source": [
    "preselected_feature_list = load_presel_features()"
   ]
  },
  {
   "cell_type": "code",
   "execution_count": 586,
   "metadata": {},
   "outputs": [],
   "source": [
    "target_label = 'risk'\n",
    "# feature_start = 'Vertical_Unisons'\n",
    "# feature_end = 'Minor_Major_Triad_Ratio'\n",
    "\n",
    "k_value = 3\n",
    "\n",
    "threshold_val = 0\n",
    "\n",
    "max_leaf_nodes = 10\n",
    "\n",
    "rand_state = 15\n",
    "\n"
   ]
  },
  {
   "cell_type": "markdown",
   "metadata": {},
   "source": [
    "## **Importing Dataset**\n"
   ]
  },
  {
   "cell_type": "markdown",
   "metadata": {},
   "source": [
    "#### Features\n"
   ]
  },
  {
   "cell_type": "code",
   "execution_count": 7,
   "metadata": {},
   "outputs": [],
   "source": [
    "# Access song_theme_feature_database\n",
    "song_theme_feature_database_path = '../data/features/song_theme_feature_database.csv'\n",
    "raw_feature_df = pd.read_csv(song_theme_feature_database_path)"
   ]
  },
  {
   "cell_type": "markdown",
   "metadata": {},
   "source": [
    "#### Labels\n"
   ]
  },
  {
   "cell_type": "code",
   "execution_count": 588,
   "metadata": {},
   "outputs": [],
   "source": [
    "# Access song_theme_labels_database\n",
    "song_theme_label_database_path = '../data/song_theme_label_database.xlsx'\n",
    "raw_label_df = pd.read_excel(song_theme_label_database_path)\n"
   ]
  },
  {
   "cell_type": "markdown",
   "metadata": {},
   "source": [
    "## **Prepare datasets**\n"
   ]
  },
  {
   "cell_type": "markdown",
   "metadata": {},
   "source": [
    "### Manual Selection\n",
    "\n",
    "Select the features for this iteration\n"
   ]
  },
  {
   "cell_type": "code",
   "execution_count": 9,
   "metadata": {},
   "outputs": [
    {
     "ename": "NameError",
     "evalue": "name 'preselected_feature_list' is not defined",
     "output_type": "error",
     "traceback": [
      "\u001b[0;31m---------------------------------------------------------------------------\u001b[0m",
      "\u001b[0;31mNameError\u001b[0m                                 Traceback (most recent call last)",
      "\u001b[0;32m/var/folders/1s/3kcd9ylx2b93yprv0wk327k40000gp/T/ipykernel_11592/3903412955.py\u001b[0m in \u001b[0;36m<module>\u001b[0;34m\u001b[0m\n\u001b[1;32m      1\u001b[0m \u001b[0;31m# man_feature_df = raw_feature_df.loc[:, feature_start:feature_end]\u001b[0m\u001b[0;34m\u001b[0m\u001b[0;34m\u001b[0m\u001b[0m\n\u001b[0;32m----> 2\u001b[0;31m \u001b[0mman_feature_df\u001b[0m \u001b[0;34m=\u001b[0m \u001b[0mraw_feature_df\u001b[0m\u001b[0;34m[\u001b[0m\u001b[0mpreselected_feature_list\u001b[0m\u001b[0;34m]\u001b[0m\u001b[0;34m\u001b[0m\u001b[0;34m\u001b[0m\u001b[0m\n\u001b[0m",
      "\u001b[0;31mNameError\u001b[0m: name 'preselected_feature_list' is not defined"
     ]
    }
   ],
   "source": [
    "# man_feature_df = raw_feature_df.loc[:, feature_start:feature_end]\n",
    "man_feature_df = raw_feature_df[preselected_feature_list]\n"
   ]
  },
  {
   "cell_type": "markdown",
   "metadata": {},
   "source": [
    "Select the labels for this iteration\n"
   ]
  },
  {
   "cell_type": "code",
   "execution_count": 8,
   "metadata": {},
   "outputs": [
    {
     "ename": "NameError",
     "evalue": "name 'raw_label_df' is not defined",
     "output_type": "error",
     "traceback": [
      "\u001b[0;31m---------------------------------------------------------------------------\u001b[0m",
      "\u001b[0;31mNameError\u001b[0m                                 Traceback (most recent call last)",
      "\u001b[0;32m/var/folders/1s/3kcd9ylx2b93yprv0wk327k40000gp/T/ipykernel_11592/4234681801.py\u001b[0m in \u001b[0;36m<module>\u001b[0;34m\u001b[0m\n\u001b[1;32m      1\u001b[0m \u001b[0;31m# Filter for only recognized samples in labels_df\u001b[0m\u001b[0;34m\u001b[0m\u001b[0;34m\u001b[0m\u001b[0m\n\u001b[0;32m----> 2\u001b[0;31m \u001b[0mmain_label_df\u001b[0m \u001b[0;34m=\u001b[0m \u001b[0mraw_label_df\u001b[0m\u001b[0;34m[\u001b[0m\u001b[0mraw_label_df\u001b[0m\u001b[0;34m.\u001b[0m\u001b[0mrecognizable\u001b[0m \u001b[0;34m==\u001b[0m \u001b[0;36m1\u001b[0m\u001b[0;34m]\u001b[0m\u001b[0;34m\u001b[0m\u001b[0;34m\u001b[0m\u001b[0m\n\u001b[0m\u001b[1;32m      3\u001b[0m \u001b[0;34m\u001b[0m\u001b[0m\n\u001b[1;32m      4\u001b[0m \u001b[0;31m# Filter out unused labels and metadata\u001b[0m\u001b[0;34m\u001b[0m\u001b[0;34m\u001b[0m\u001b[0m\n\u001b[1;32m      5\u001b[0m main_label_df.drop(\n",
      "\u001b[0;31mNameError\u001b[0m: name 'raw_label_df' is not defined"
     ]
    }
   ],
   "source": [
    "# Filter for only recognized samples in labels_df\n",
    "main_label_df = raw_label_df[raw_label_df.recognizable == 1]\n",
    "\n",
    "# Filter out unused labels and metadata\n",
    "main_label_df.drop(\n",
    "    columns=main_label_df.columns[19:], axis=1, inplace=True)  # unused labels\n",
    "main_label_df.drop(\n",
    "    columns=main_label_df.columns[0:4], axis=1, inplace=True)  # metadata\n",
    "\n",
    "# label_df = main_label_df\n",
    "# label_df = main_label_df[target_label]\n",
    "label_df = main_label_df[[target_label]]\n"
   ]
  },
  {
   "cell_type": "markdown",
   "metadata": {},
   "source": [
    "### Feature Selection\n"
   ]
  },
  {
   "cell_type": "markdown",
   "metadata": {},
   "source": [
    "Filter out features with zero variance\n"
   ]
  },
  {
   "cell_type": "code",
   "execution_count": 591,
   "metadata": {},
   "outputs": [
    {
     "name": "stdout",
     "output_type": "stream",
     "text": [
      "Started with 199 features.\n",
      "Removed 1 feature(s) that having variance of 0.\n",
      "There are 198 features left.\n"
     ]
    }
   ],
   "source": [
    "constant_filter = VarianceThreshold(threshold=threshold_val)\n",
    "constant_filter.fit(man_feature_df)\n",
    "constant_columns = [column for column in man_feature_df.columns\n",
    "                    if column not in\n",
    "                    man_feature_df.columns[constant_filter.get_support()]]\n",
    "var_feature_np = constant_filter.transform(man_feature_df)\n",
    "# x_test = constant_filter.transform(label_df)\n",
    "# for column in constant_columns:\n",
    "#     print(\"Removed \", column)\n",
    "print(f\"Started with {man_feature_df.shape[1]} features.\")\n",
    "print(\n",
    "    f\"Removed {len(constant_columns)} feature(s) that having variance of {threshold_val}.\")\n",
    "print(f\"There are {(var_feature_np.shape[1])} features left.\")\n",
    "\n",
    "feature_names = [\n",
    "    x for x in man_feature_df.columns if not x in constant_columns]\n"
   ]
  },
  {
   "cell_type": "markdown",
   "metadata": {},
   "source": [
    "Filter out features with low importance\n"
   ]
  },
  {
   "cell_type": "code",
   "execution_count": null,
   "metadata": {},
   "outputs": [],
   "source": []
  },
  {
   "cell_type": "markdown",
   "metadata": {},
   "source": [
    "## **Transforming Data**\n"
   ]
  },
  {
   "cell_type": "code",
   "execution_count": 592,
   "metadata": {},
   "outputs": [],
   "source": [
    "# from numpy import ravel\n",
    "\n",
    "# feature_np = feature_df.to_numpy()\n",
    "# label_np = label_df.to_numpy()\n",
    "# # feature_np = feature_df\n",
    "# # label_np = label_df\n",
    "\n",
    "# feature_np = feature_df.to_numpy()\n",
    "feature_np = var_feature_np\n",
    "label_np = label_df.to_numpy().astype(int)\n",
    "\n",
    "ids_df = raw_feature_df['sample']\n"
   ]
  },
  {
   "cell_type": "markdown",
   "metadata": {},
   "source": [
    "### Splitting dataset\n"
   ]
  },
  {
   "cell_type": "code",
   "execution_count": 593,
   "metadata": {},
   "outputs": [],
   "source": [
    "(x_train, x_test, y_train, y_test, ids_train, ids_test) = train_test_split(\n",
    "    feature_np, label_np, ids_df, test_size=0.2, random_state=rand_state)\n"
   ]
  },
  {
   "cell_type": "markdown",
   "metadata": {},
   "source": [
    "### Sampling Data\n",
    "\n",
    "For balanced dataset\n"
   ]
  },
  {
   "cell_type": "code",
   "execution_count": 594,
   "metadata": {},
   "outputs": [],
   "source": [
    "# from imblearn.over_sampling import RandomOverSampler\n",
    "# ros = RandomOverSampler(random_state=0,shrinkage= 0.4)\n",
    "# X_resampled, y_resampled = ros.fit_resample(x_train, y_train)\n",
    "\n",
    "# from collections import Counter\n",
    "# print(sorted(Counter(y_resampled).items()))\n"
   ]
  },
  {
   "cell_type": "code",
   "execution_count": 595,
   "metadata": {},
   "outputs": [],
   "source": [
    "# from imblearn.under_sampling import RandomUnderSampler\n",
    "# rus = RandomUnderSampler(random_state=0)\n",
    "# X_resampled, y_resampled = rus.fit_resample(x_train, y_train)\n",
    "\n",
    "# from collections import Counter\n",
    "# print(sorted(Counter(y_resampled).items()))\n"
   ]
  },
  {
   "cell_type": "code",
   "execution_count": 596,
   "metadata": {},
   "outputs": [],
   "source": [
    "# from imblearn.over_sampling import SMOTE\n",
    "# smote = SMOTE(random_state=rand_state)\n",
    "# x_train, y_train = smote.fit_resample(x_train, y_train)\n",
    "\n",
    "# y_train.value_counts()\n"
   ]
  },
  {
   "cell_type": "markdown",
   "metadata": {},
   "source": [
    "## **Working Model**\n"
   ]
  },
  {
   "cell_type": "code",
   "execution_count": 597,
   "metadata": {},
   "outputs": [],
   "source": [
    "# from sklearn.feature_selection import SelectKBest\n",
    "# from sklearn.feature_selection import f_classif\n",
    "# from sklearn.pipeline import make_pipeline\n",
    "# from sklearn.ensemble import RandomForestClassifier\n",
    "# from sklearn.model_selection import cross_validate\n",
    "\n",
    "\n",
    "# model_with_selection = make_pipeline(\n",
    "#     SelectKBest(score_func=f_classif, k=2),\n",
    "#     RandomForestClassifier(n_jobs=2),\n",
    "# )\n",
    "\n",
    "# label_np = ravel(label_np)\n",
    "\n",
    "# cv_results_with_selection = cross_validate(\n",
    "#     model_with_selection, feature_np, label_np, return_estimator=True)\n",
    "# cv_results_with_selection = pd.DataFrame(cv_results_with_selection)\n",
    "\n",
    "# cv_results_with_selection\n"
   ]
  },
  {
   "cell_type": "code",
   "execution_count": 598,
   "metadata": {},
   "outputs": [
    {
     "name": "stdout",
     "output_type": "stream",
     "text": [
      "DecisionTreeClassifier(criterion='entropy', max_leaf_nodes=7, random_state=15)\n"
     ]
    },
    {
     "data": {
      "text/plain": [
       "0.7307692307692307"
      ]
     },
     "execution_count": 598,
     "metadata": {},
     "output_type": "execute_result"
    }
   ],
   "source": [
    "from sklearn.tree import DecisionTreeClassifier\n",
    "\n",
    "knn_parameters = {'k': range(3, 5), 's': [0.5, 0.7, 1.0]}\n",
    "score = 'f1_macro'\n",
    "\n",
    "# from imblearn.ensemble import BalancedRandomForestClassifier\n",
    "\n",
    "# classifier = GridSearchCV(MLkNN(), knn_parameters, scoring=score)\n",
    "# classifier = MLkNN()\n",
    "\n",
    "# classifier = DecisionTreeClassifier(max_leaf_nodes=max_leaf_nodes, random_state=rand_state) # https://scikit-learn.org/stable/modules/generated/sklearn.tree.DecisionTreeClassifier.html?highlight=decision%20tree%20classifier#sklearn.tree.DecisionTreeClassifier\n",
    "\n",
    "\n",
    "dt_parameters = {\n",
    "    'max_leaf_nodes': range(3, 15),\n",
    "    'criterion': [\"gini\", \"entropy\"]\n",
    "}\n",
    "gscv_dt_classifier = GridSearchCV(\n",
    "    DecisionTreeClassifier(random_state=rand_state),\n",
    "    param_grid=dt_parameters,\n",
    "    refit=True,\n",
    "    cv=5,\n",
    "    scoring=score,\n",
    "    error_score='raise'\n",
    ")\n",
    "# Fit with entire dataset\n",
    "gscv_dt_classifier.fit(feature_np, label_np)\n",
    "\n",
    "\n",
    "\n",
    "# Now get the best performing hyperparameters and we will use it by itself\n",
    "best_estimator = gscv_dt_classifier.best_estimator_\n",
    "print(best_estimator)\n",
    "best_max_leaf_nodes = gscv_dt_classifier.best_params_['max_leaf_nodes']\n",
    "\n",
    "\n",
    "# Build model and evaluate\n",
    "# classifier = BalancedRandomForestClassifier(n_estimators=500, random_state=rand_state)\n",
    "# classifier.fit(x_train, y_train)\n",
    "best_estimator.fit(x_train, y_train)\n",
    "# y_predicted = best_estimator.predict(x_test)\n",
    "best_score = best_estimator.score(x_test, y_test)\n",
    "best_score\n",
    "\n",
    "# print(classifier.best_params_, classifier.best_score_)\n",
    "# classifier.fit(X_resampled, y_resampled)\n"
   ]
  },
  {
   "cell_type": "code",
   "execution_count": 599,
   "metadata": {},
   "outputs": [
    {
     "data": {
      "text/plain": [
       "Text(0.5, 1.0, \"'risk' with DecisionTreeClassifier(max_leaf_nodes=7, random_state=15)\")"
      ]
     },
     "execution_count": 599,
     "metadata": {},
     "output_type": "execute_result"
    },
    {
     "data": {
      "image/png": "[encoded data removed]",
      "text/plain": [
       "<Figure size 1440x1080 with 1 Axes>"
      ]
     },
     "metadata": {
      "needs_background": "light"
     },
     "output_type": "display_data"
    }
   ],
   "source": [
    "from sklearn import tree\n",
    "import matplotlib.pyplot as plt\n",
    "\n",
    "# print(export_text(classifier, feature_names=final_columns))\n",
    "\n",
    "tree_to_plot = gscv_dt_classifier.best_estimator_\n",
    "# tree_to_plot = best_estimator\n",
    "\n",
    "# Figure size\n",
    "plt.figure(figsize=(20, 15))\n",
    "\n",
    "# Main plot\n",
    "tree.plot_tree(tree_to_plot, feature_names=feature_names, class_names=[\n",
    "               'absent', target_label], label='root', filled=True, fontsize=7)\n",
    "\n",
    "\n",
    "# Labels\n",
    "plt.plot(target_label, label=target_label)\n",
    "plt.plot('absent', label='absent')\n",
    "plt.legend(loc='upper right')\n",
    "\n",
    "# Title\n",
    "plt.title(f\"\\'{target_label}\\' with DecisionTreeClassifier(max_leaf_nodes={best_max_leaf_nodes}, random_state={rand_state})\")\n",
    "# plt.show()\n"
   ]
  },
  {
   "cell_type": "markdown",
   "metadata": {},
   "source": [
    "## **Evaluation**\n"
   ]
  },
  {
   "cell_type": "markdown",
   "metadata": {},
   "source": [
    "### Prediction\n"
   ]
  },
  {
   "cell_type": "code",
   "execution_count": 600,
   "metadata": {},
   "outputs": [],
   "source": [
    "predictions = best_estimator.predict(x_test)\n"
   ]
  },
  {
   "cell_type": "markdown",
   "metadata": {},
   "source": [
    "### Metrics\n"
   ]
  },
  {
   "cell_type": "code",
   "execution_count": 603,
   "metadata": {},
   "outputs": [
    {
     "name": "stdout",
     "output_type": "stream",
     "text": [
      "Accuracy: 0.7307692307692307\n",
      "Haming Loss: 0.2692307692307692\n",
      "F1-score: 0.2222222222222222\n"
     ]
    }
   ],
   "source": [
    "# scores = cross_val_score(classifier, x_test, y_test, cv=3, scoring='accuracy')\n",
    "\n",
    "print(f'Accuracy: {accuracy_score(y_test, predictions)}')\n",
    "print(f'Haming Loss: {hamming_loss(y_test, predictions)}')\n",
    "print(f'F1-score: {f1_score(y_test, predictions)}')\n"
   ]
  },
  {
   "cell_type": "markdown",
   "metadata": {},
   "source": [
    "Display results\n"
   ]
  },
  {
   "cell_type": "code",
   "execution_count": 602,
   "metadata": {},
   "outputs": [
    {
     "data": {
      "text/html": [
       "<div>\n",
       "<style scoped>\n",
       "    .dataframe tbody tr th:only-of-type {\n",
       "        vertical-align: middle;\n",
       "    }\n",
       "\n",
       "    .dataframe tbody tr th {\n",
       "        vertical-align: top;\n",
       "    }\n",
       "\n",
       "    .dataframe thead th {\n",
       "        text-align: right;\n",
       "    }\n",
       "</style>\n",
       "<table border=\"1\" class=\"dataframe\">\n",
       "  <thead>\n",
       "    <tr style=\"text-align: right;\">\n",
       "      <th></th>\n",
       "      <th>sample</th>\n",
       "      <th>y_true</th>\n",
       "      <th>y_pred</th>\n",
       "    </tr>\n",
       "  </thead>\n",
       "  <tbody>\n",
       "    <tr>\n",
       "      <th>0</th>\n",
       "      <td>court.mid</td>\n",
       "      <td>1</td>\n",
       "      <td>1</td>\n",
       "    </tr>\n",
       "    <tr>\n",
       "      <th>1</th>\n",
       "      <td>adele-rolling_in_the_deep_bitmidi.mid</td>\n",
       "      <td>0</td>\n",
       "      <td>0</td>\n",
       "    </tr>\n",
       "    <tr>\n",
       "      <th>2</th>\n",
       "      <td>coldplay-a_sky_full_of_stars_bitmidi.mid</td>\n",
       "      <td>0</td>\n",
       "      <td>0</td>\n",
       "    </tr>\n",
       "    <tr>\n",
       "      <th>3</th>\n",
       "      <td>braveheart_bitmidi.mid</td>\n",
       "      <td>0</td>\n",
       "      <td>0</td>\n",
       "    </tr>\n",
       "    <tr>\n",
       "      <th>4</th>\n",
       "      <td>Romantic_Flight Finale.mid</td>\n",
       "      <td>0</td>\n",
       "      <td>0</td>\n",
       "    </tr>\n",
       "    <tr>\n",
       "      <th>5</th>\n",
       "      <td>I Just Can't Wait To Be King.BSO The Lion King...</td>\n",
       "      <td>0</td>\n",
       "      <td>0</td>\n",
       "    </tr>\n",
       "    <tr>\n",
       "      <th>6</th>\n",
       "      <td>Disney Themes_The Bear Necessities_midiworld.mid</td>\n",
       "      <td>0</td>\n",
       "      <td>0</td>\n",
       "    </tr>\n",
       "    <tr>\n",
       "      <th>7</th>\n",
       "      <td>Billy Joel - Uptown Girl_bitmidi.mid</td>\n",
       "      <td>0</td>\n",
       "      <td>0</td>\n",
       "    </tr>\n",
       "    <tr>\n",
       "      <th>8</th>\n",
       "      <td>allstar_bitmidi.mid</td>\n",
       "      <td>0</td>\n",
       "      <td>0</td>\n",
       "    </tr>\n",
       "    <tr>\n",
       "      <th>9</th>\n",
       "      <td>Happy-Birthday-2_bitmidi.mid</td>\n",
       "      <td>0</td>\n",
       "      <td>0</td>\n",
       "    </tr>\n",
       "    <tr>\n",
       "      <th>10</th>\n",
       "      <td>Disney Themes_Under The Sea_midiworld.mid</td>\n",
       "      <td>0</td>\n",
       "      <td>0</td>\n",
       "    </tr>\n",
       "    <tr>\n",
       "      <th>11</th>\n",
       "      <td>Disney Themes_Gravity Falls Theme_midiworld.mid</td>\n",
       "      <td>0</td>\n",
       "      <td>0</td>\n",
       "    </tr>\n",
       "    <tr>\n",
       "      <th>12</th>\n",
       "      <td>EURYTHMICS.Sweet dreams K_bitmidi.mid</td>\n",
       "      <td>0</td>\n",
       "      <td>0</td>\n",
       "    </tr>\n",
       "    <tr>\n",
       "      <th>13</th>\n",
       "      <td>Isn't-She-Lovely-1_bitmidi.mid</td>\n",
       "      <td>0</td>\n",
       "      <td>0</td>\n",
       "    </tr>\n",
       "    <tr>\n",
       "      <th>14</th>\n",
       "      <td>BRITNEY SPEARS.Baby one more time K_bitmidi.mid</td>\n",
       "      <td>0</td>\n",
       "      <td>0</td>\n",
       "    </tr>\n",
       "    <tr>\n",
       "      <th>15</th>\n",
       "      <td>Avengers: Age of Ultron - Heroes_bitmidi.mid</td>\n",
       "      <td>1</td>\n",
       "      <td>1</td>\n",
       "    </tr>\n",
       "    <tr>\n",
       "      <th>16</th>\n",
       "      <td>bastille-pompeii_bitmidi.mid</td>\n",
       "      <td>0</td>\n",
       "      <td>0</td>\n",
       "    </tr>\n",
       "    <tr>\n",
       "      <th>17</th>\n",
       "      <td>cantina-3_bitmidi.mid</td>\n",
       "      <td>1</td>\n",
       "      <td>1</td>\n",
       "    </tr>\n",
       "    <tr>\n",
       "      <th>18</th>\n",
       "      <td>John williams_Star Wars Cello Bass Duet_midiwo...</td>\n",
       "      <td>0</td>\n",
       "      <td>0</td>\n",
       "    </tr>\n",
       "    <tr>\n",
       "      <th>19</th>\n",
       "      <td>imagine_dragons-demons_bitmidi.mid</td>\n",
       "      <td>0</td>\n",
       "      <td>0</td>\n",
       "    </tr>\n",
       "    <tr>\n",
       "      <th>20</th>\n",
       "      <td>ABBA.Happy new year_bitmidi.mid</td>\n",
       "      <td>0</td>\n",
       "      <td>0</td>\n",
       "    </tr>\n",
       "    <tr>\n",
       "      <th>21</th>\n",
       "      <td>Imagine dragons - Radioactive_bitmidi.mid</td>\n",
       "      <td>0</td>\n",
       "      <td>0</td>\n",
       "    </tr>\n",
       "    <tr>\n",
       "      <th>22</th>\n",
       "      <td>Another-One-Bites-The-Dust-1_bitmidi.mid</td>\n",
       "      <td>0</td>\n",
       "      <td>0</td>\n",
       "    </tr>\n",
       "    <tr>\n",
       "      <th>23</th>\n",
       "      <td>EUROPE.The final countdown K_bitmidi.mid</td>\n",
       "      <td>0</td>\n",
       "      <td>0</td>\n",
       "    </tr>\n",
       "    <tr>\n",
       "      <th>24</th>\n",
       "      <td>D.BYAS.Over the rainbow_bitmidi.mid</td>\n",
       "      <td>0</td>\n",
       "      <td>0</td>\n",
       "    </tr>\n",
       "    <tr>\n",
       "      <th>25</th>\n",
       "      <td>Godhelpt.mid</td>\n",
       "      <td>0</td>\n",
       "      <td>0</td>\n",
       "    </tr>\n",
       "  </tbody>\n",
       "</table>\n",
       "</div>"
      ],
      "text/plain": [
       "                                               sample  y_true  y_pred\n",
       "0                                           court.mid       1       1\n",
       "1               adele-rolling_in_the_deep_bitmidi.mid       0       0\n",
       "2            coldplay-a_sky_full_of_stars_bitmidi.mid       0       0\n",
       "3                              braveheart_bitmidi.mid       0       0\n",
       "4                          Romantic_Flight Finale.mid       0       0\n",
       "5   I Just Can't Wait To Be King.BSO The Lion King...       0       0\n",
       "6    Disney Themes_The Bear Necessities_midiworld.mid       0       0\n",
       "7                Billy Joel - Uptown Girl_bitmidi.mid       0       0\n",
       "8                                 allstar_bitmidi.mid       0       0\n",
       "9                        Happy-Birthday-2_bitmidi.mid       0       0\n",
       "10          Disney Themes_Under The Sea_midiworld.mid       0       0\n",
       "11    Disney Themes_Gravity Falls Theme_midiworld.mid       0       0\n",
       "12              EURYTHMICS.Sweet dreams K_bitmidi.mid       0       0\n",
       "13                     Isn't-She-Lovely-1_bitmidi.mid       0       0\n",
       "14    BRITNEY SPEARS.Baby one more time K_bitmidi.mid       0       0\n",
       "15       Avengers: Age of Ultron - Heroes_bitmidi.mid       1       1\n",
       "16                       bastille-pompeii_bitmidi.mid       0       0\n",
       "17                              cantina-3_bitmidi.mid       1       1\n",
       "18  John williams_Star Wars Cello Bass Duet_midiwo...       0       0\n",
       "19                 imagine_dragons-demons_bitmidi.mid       0       0\n",
       "20                    ABBA.Happy new year_bitmidi.mid       0       0\n",
       "21          Imagine dragons - Radioactive_bitmidi.mid       0       0\n",
       "22           Another-One-Bites-The-Dust-1_bitmidi.mid       0       0\n",
       "23           EUROPE.The final countdown K_bitmidi.mid       0       0\n",
       "24                D.BYAS.Over the rainbow_bitmidi.mid       0       0\n",
       "25                                       Godhelpt.mid       0       0"
      ]
     },
     "execution_count": 602,
     "metadata": {},
     "output_type": "execute_result"
    }
   ],
   "source": [
    "predictions_df = pd.DataFrame(predictions, columns=label_df.columns)\n",
    "y_test_df = pd.DataFrame(predictions, columns=label_df.columns)\n",
    "\n",
    "results = pd.DataFrame(\n",
    "    # {'sample': ids_test, 'y_true': flat_y_true, 'y_pred': flat_predictions})\n",
    "    # {'sample': ids_test, 'y_true': y_test, 'y_pred': predictions})\n",
    "    {'sample': ids_test.reset_index(drop=True), 'y_true': y_test_df[target_label], 'y_pred': predictions_df[target_label]})\n",
    "\n",
    "results = results.sort_index()\n",
    "\n",
    "results\n"
   ]
  }
 ],
 "metadata": {
  "interpreter": {
   "hash": "c6e4e9f98eb68ad3b7c296f83d20e6de614cb42e90992a65aa266555a3137d0d"
  },
  "kernelspec": {
   "display_name": "Python 3.9.7 ('base')",
   "language": "python",
   "name": "python3"
  },
  "language_info": {
   "codemirror_mode": {
    "name": "ipython",
    "version": 3
   },
   "file_extension": ".py",
   "mimetype": "text/x-python",
   "name": "python",
   "nbconvert_exporter": "python",
   "pygments_lexer": "ipython3",
   "version": "3.9.7"
  },
  "orig_nbformat": 4
 },
 "nbformat": 4,
 "nbformat_minor": 2
}
